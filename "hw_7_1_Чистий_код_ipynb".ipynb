{
  "cells": [
    {
      "cell_type": "markdown",
      "metadata": {
        "id": "view-in-github",
        "colab_type": "text"
      },
      "source": [
        "<a href=\"https://colab.research.google.com/github/AnnaBo1/python_for_DA/blob/main/%22hw_7_1_%D0%A7%D0%B8%D1%81%D1%82%D0%B8%D0%B9_%D0%BA%D0%BE%D0%B4_ipynb%22.ipynb\" target=\"_parent\"><img src=\"https://colab.research.google.com/assets/colab-badge.svg\" alt=\"Open In Colab\"/></a>"
      ]
    },
    {
      "cell_type": "markdown",
      "id": "aed503f1",
      "metadata": {
        "ExecuteTime": {
          "end_time": "2023-07-27T20:14:32.871852Z",
          "start_time": "2023-07-27T20:14:31.036121Z"
        },
        "id": "aed503f1"
      },
      "source": [
        "У завданнях 1-4. Вам наданий простий код на Python, який не відповідає вказівкам PEP8. Ваше завдання — відредагувати код так, аби він відповідав PEP8. Напишіть після редагуванню коду, дотримання яких правил з pep8 ви досягли в відредагованій версі, наприклад\n",
        "```\n",
        "- додала пробіли навколо бінарного оператора\n",
        "- додала два порожні рядки між визначеннями функцій\n",
        "і тд\n",
        "```\n",
        "Також можна зазанчити використані правила коментарями по коду, а не окремим повідомленням.\n",
        "\n",
        "Відредагований код має виконувати весь той самий функціонал, але бути написаний відповідно до вимог до гарного коду на Python! Не забудьте запустити відредагований код, він має бути робочим."
      ]
    },
    {
      "cell_type": "markdown",
      "id": "e7fea147",
      "metadata": {
        "id": "e7fea147"
      },
      "source": [
        "Завдання 1."
      ]
    },
    {
      "cell_type": "code",
      "execution_count": 1,
      "id": "f63d84d7",
      "metadata": {
        "ExecuteTime": {
          "end_time": "2023-07-29T17:02:37.075783Z",
          "start_time": "2023-07-29T17:02:37.035259Z"
        },
        "id": "f63d84d7",
        "colab": {
          "base_uri": "https://localhost:8080/",
          "height": 69
        },
        "outputId": "dd20e021-277e-4cd7-f68f-e6df6147a760"
      },
      "outputs": [
        {
          "output_type": "stream",
          "name": "stdout",
          "text": [
            "Hello, John\n"
          ]
        },
        {
          "output_type": "display_data",
          "data": {
            "text/plain": [
              "None"
            ]
          },
          "metadata": {}
        },
        {
          "output_type": "display_data",
          "data": {
            "text/plain": [
              "8"
            ]
          },
          "metadata": {}
        }
      ],
      "source": [
        "def greet(name):print(f\"Hello, {name}\")\n",
        "def add(n1,n2):return n1+n2\n",
        "\n",
        "x = 5;y = 3\n",
        "display(greet(\"John\"),add(x,y))\n"
      ]
    },
    {
      "cell_type": "code",
      "execution_count": 2,
      "id": "41b7e672",
      "metadata": {
        "id": "41b7e672",
        "colab": {
          "base_uri": "https://localhost:8080/"
        },
        "outputId": "cf605ed0-8240-4e34-8a77-bb05849ddd6b"
      },
      "outputs": [
        {
          "output_type": "stream",
          "name": "stdout",
          "text": [
            "Hello, John\n",
            "8\n"
          ]
        }
      ],
      "source": [
        "def greet(name):\n",
        "    print(f\"Hello, {name}\") # Пробіли перед і після бінарного оператора додавання\n",
        "\n",
        "# Додано два порожні рядки між визначеннями функцій\n",
        "def add(n1, n2):\n",
        "    return n1 + n2 # Додано пробіли\n",
        "\n",
        "# Змінні x та y тепер знаходяться на окремих рядках для покращення читабельності\n",
        "x = 5\n",
        "y = 3\n",
        "\n",
        "# Виклик функцій greet і add\n",
        "greet(\"John\")\n",
        "result = add(x, y)\n",
        "print(result)\n"
      ]
    },
    {
      "cell_type": "markdown",
      "id": "cea88baf",
      "metadata": {
        "id": "cea88baf"
      },
      "source": [
        "Завдання 2."
      ]
    },
    {
      "cell_type": "code",
      "execution_count": 3,
      "id": "dfb6d2b5",
      "metadata": {
        "ExecuteTime": {
          "end_time": "2023-07-29T17:05:49.706098Z",
          "start_time": "2023-07-29T17:05:49.688255Z"
        },
        "id": "dfb6d2b5",
        "colab": {
          "base_uri": "https://localhost:8080/"
        },
        "outputId": "b5502d8b-c08e-40d0-8e1b-716da2cab1f4"
      },
      "outputs": [
        {
          "output_type": "stream",
          "name": "stdout",
          "text": [
            "Area: 78.53981633974483 Circumference: 31.41592653589793\n"
          ]
        }
      ],
      "source": [
        "from math import *\n",
        "def calcArea(r):return pi*r**2\n",
        "def calcCircumference(r):return 2*pi*r\n",
        "\n",
        "radius=5\n",
        "print(\"Area:\",calcArea(radius),\"Circumference:\",calcCircumference(radius))"
      ]
    },
    {
      "cell_type": "code",
      "execution_count": 4,
      "id": "df263672",
      "metadata": {
        "id": "df263672",
        "colab": {
          "base_uri": "https://localhost:8080/"
        },
        "outputId": "52d2c24d-6d1b-46b6-d303-8a811fcad39b"
      },
      "outputs": [
        {
          "output_type": "stream",
          "name": "stdout",
          "text": [
            "Area: 78.53981633974483 Circumference: 31.41592653589793\n"
          ]
        }
      ],
      "source": [
        "from math import pi  # Імпортуємо лише необхідний символ для кращої практики\n",
        "\n",
        "# Функція для обчислення площі кола\n",
        "def calc_area(r):\n",
        "    return pi * r ** 2  # Додано пробіли навколо бінарних операторів\n",
        "\n",
        "# Функція для обчислення довжини кола\n",
        "def calc_circumference(r):\n",
        "    return 2 * pi * r  # Додано пробіли навколо бінарних операторів\n",
        "\n",
        "\n",
        "radius = 5  # Визначаємо радіус кола\n",
        "\n",
        "# Виводимо площу та довжину кола\n",
        "print(\"Area:\", calc_area(radius), \"Circumference:\", calc_circumference(radius))\n",
        "\n",
        "# Перейменовано функції calcArea і calcCircumference на calc_area та calc_circumference відповідно, щоб дотримуватися стилю з використанням нижнього регістру з підкресленнями.\n",
        "# Додано два порожні рядки між визначеннями функцій"
      ]
    },
    {
      "cell_type": "markdown",
      "id": "1fd691b7",
      "metadata": {
        "id": "1fd691b7"
      },
      "source": [
        "Завдання 3."
      ]
    },
    {
      "cell_type": "code",
      "execution_count": 5,
      "id": "1d5acb2d",
      "metadata": {
        "ExecuteTime": {
          "end_time": "2023-07-29T17:06:18.612622Z",
          "start_time": "2023-07-29T17:06:18.598477Z"
        },
        "id": "1d5acb2d"
      },
      "outputs": [],
      "source": [
        "class animal: pass\n",
        "class dog(animal):\n",
        "    def __init__(self,name):\n",
        "        self.name=name\n",
        "        self.type='Dog'"
      ]
    },
    {
      "cell_type": "code",
      "execution_count": 6,
      "id": "0d4b2b8a",
      "metadata": {
        "id": "0d4b2b8a"
      },
      "outputs": [],
      "source": [
        "# Базовий клас для всіх тварин\n",
        "class Animal:  # Змінено назву класу на PascalCase\n",
        "    pass\n",
        "\n",
        "\n",
        "# Клас, що представляє собаку\n",
        "class Dog(Animal):  # Змінено назву класу на PascalCase\n",
        "    def __init__(self, name):  # Додано пробіли перед та після параметра\n",
        "        self.name = name  # Додано пробіли навколо знаку рівності для покращення читабельності\n",
        "        self.type = 'Dog'  # Додано пробіли навколо знаку рівності для покращення читабельності\n"
      ]
    },
    {
      "cell_type": "markdown",
      "id": "7d1d4f5d",
      "metadata": {
        "id": "7d1d4f5d"
      },
      "source": [
        "Завдання 4."
      ]
    },
    {
      "cell_type": "code",
      "execution_count": 7,
      "id": "a91c1cc4",
      "metadata": {
        "ExecuteTime": {
          "end_time": "2023-07-29T17:06:47.180263Z",
          "start_time": "2023-07-29T17:06:47.173617Z"
        },
        "id": "a91c1cc4",
        "colab": {
          "base_uri": "https://localhost:8080/"
        },
        "outputId": "e2bbac08-39a9-43be-96b8-eb58f093f689"
      },
      "outputs": [
        {
          "output_type": "stream",
          "name": "stdout",
          "text": [
            "1\n",
            "2\n",
            "3\n",
            "4\n",
            "5\n"
          ]
        }
      ],
      "source": [
        "list=[1,2,3,4,5]\n",
        "for i in range(len(list)):print(list[i])"
      ]
    },
    {
      "cell_type": "code",
      "execution_count": 8,
      "id": "c0f9541a",
      "metadata": {
        "id": "c0f9541a",
        "colab": {
          "base_uri": "https://localhost:8080/"
        },
        "outputId": "2917f226-6f13-4237-913e-299759073c10"
      },
      "outputs": [
        {
          "output_type": "stream",
          "name": "stdout",
          "text": [
            "1\n",
            "2\n",
            "3\n",
            "4\n",
            "5\n"
          ]
        }
      ],
      "source": [
        "# Змінено ім'я змінної list: на my_list, щоб уникнути перекриття вбудованої функції list, яка може знадобитися пізніше у коді.\n",
        "my_list = [1, 2, 3, 4, 5] # додано пробіли після ком, щоб кожне значення було розділене, що полегшує читання.\n",
        "\n",
        "# Використання ітерації по елементах списку напряму: замість for i in range(len(list)) використано for item in my_list, що є більш читабельним і ефективним способом ітерації у Python.\n",
        "for item in my_list:\n",
        "    print(item)\n"
      ]
    },
    {
      "cell_type": "markdown",
      "id": "8b0487e6",
      "metadata": {
        "id": "8b0487e6"
      },
      "source": [
        "5.У вас є DataFrame df, що представляє результати тестів студентів з математики, англійської мови та історії. Поточний код обчислює середній бал для кожного студента шляхом ітерації за рядками DataFrame за допомогою iterrows().\n",
        "\n",
        "Ваше завдання полягає в тому, щоб змінити код так, аби уникнути використання iterrows() і замість цього застосувати більш ефективне та читабельне рішення відповідно до правил, озвучених у лекції. Рефакторинг треба зробити лише частині, де рахуються середні, імпорт і визначення датафрейму лишаємо без змін."
      ]
    },
    {
      "cell_type": "code",
      "execution_count": 9,
      "id": "5b3cc648",
      "metadata": {
        "ExecuteTime": {
          "end_time": "2023-07-29T17:15:55.926882Z",
          "start_time": "2023-07-29T17:15:55.686415Z"
        },
        "id": "5b3cc648"
      },
      "outputs": [],
      "source": [
        "import pandas as pd\n",
        "\n",
        "df = pd.DataFrame({\n",
        "    'student': ['Alice', 'Bob', 'Charlie', 'David'],\n",
        "    'math_score': [89, 94, 77, 85],\n",
        "    'english_score': [92, 88, 79, 85],\n",
        "    'history_score': [84, 92, 81, 89]\n",
        "})"
      ]
    },
    {
      "cell_type": "code",
      "execution_count": 13,
      "id": "f5858889",
      "metadata": {
        "ExecuteTime": {
          "end_time": "2023-07-29T17:15:55.926882Z",
          "start_time": "2023-07-29T17:15:55.686415Z"
        },
        "id": "f5858889",
        "colab": {
          "base_uri": "https://localhost:8080/"
        },
        "outputId": "d97dc6ee-5dda-4368-f2c0-bbddd1daf451"
      },
      "outputs": [
        {
          "output_type": "stream",
          "name": "stdout",
          "text": [
            "   student  math_score  english_score  history_score  average_score\n",
            "0    Alice          89             92             84      88.333333\n",
            "1      Bob          94             88             92      91.333333\n",
            "2  Charlie          77             79             81      79.000000\n",
            "3    David          85             85             89      86.333333\n"
          ]
        }
      ],
      "source": [
        "averages = []\n",
        "for _, row in df.iterrows():\n",
        "    averages.append((row['math_score'] + row['english_score'] + row['history_score']) / 3)\n",
        "\n",
        "df['average_score'] = averages\n",
        "\n",
        "print(df)"
      ]
    },
    {
      "cell_type": "code",
      "execution_count": 15,
      "id": "74cea4fc",
      "metadata": {
        "id": "74cea4fc",
        "colab": {
          "base_uri": "https://localhost:8080/"
        },
        "outputId": "6e00cb25-8585-40e1-ed15-8decebeb9c0c"
      },
      "outputs": [
        {
          "output_type": "stream",
          "name": "stdout",
          "text": [
            "   student  math_score  english_score  history_score  average_score\n",
            "0    Alice          89             92             84      88.333333\n",
            "1      Bob          94             88             92      91.333333\n",
            "2  Charlie          77             79             81      79.000000\n",
            "3    David          85             85             89      86.333333\n"
          ]
        }
      ],
      "source": [
        "# замість ітерації рядків iterrows(), ми обчислюємо середнє значення для кожного рядка (кожного студента) за допомогою mean(axis=1)\n",
        "df['average_score'] = df[['math_score', 'english_score', 'history_score']].mean(axis=1)\n",
        "\n",
        "\n",
        "print(df)\n"
      ]
    },
    {
      "cell_type": "markdown",
      "id": "34fb1db9",
      "metadata": {
        "id": "34fb1db9"
      },
      "source": [
        "6.У Вас є великий DataFrame df, що представляє транзакції продажу в магазині. Цей DataFrame містить понад 1 мільйон рядків і кілька стовпців, зокрема «product_name», «product_category», «product_price» і «transaction_date».\n",
        "\n",
        "І «product_name», і «product_category» є рядками, що представляють численні, але обмежені унікальні назви продуктів і категорії відповідно.\n",
        "\n",
        "Напишіть код для ефективного перетворення стовпців «product_name» і «product_category» на категорійний тип для ефективного використання пам’яті.\n",
        "Спробуйте вирішити це завдання, мінімізуючи використання пам'яті та зберігаючи читабельність коду. Крім того, виміряйте використання пам’яті до та після перетворення, щоб продемонструвати підвищення ефективності.\n",
        "\n",
        "Порівняйте кількість памʼяті, яку займає наданий набір даних і новий, створений Вами. В лекції був приклад. В скільки разів менше памʼяті займає новий датафрейм?"
      ]
    },
    {
      "cell_type": "code",
      "execution_count": 17,
      "id": "d4926909",
      "metadata": {
        "ExecuteTime": {
          "end_time": "2023-07-29T21:19:30.009527Z",
          "start_time": "2023-07-29T21:19:29.595210Z"
        },
        "id": "d4926909"
      },
      "outputs": [],
      "source": [
        "import pandas as pd\n",
        "import numpy as np\n",
        "\n",
        "np.random.seed(0)\n",
        "\n",
        "products = ['apple', 'banana', 'cherry', 'dates', 'elderberry']\n",
        "categories = ['fruit', 'fruit', 'fruit', 'fruit', 'fruit']\n",
        "\n",
        "N_ROWS = 10**6\n",
        "df = pd.DataFrame({\n",
        "    'product_name': np.random.choice(products, N_ROWS),\n",
        "    'product_category': np.random.choice(categories, N_ROWS),\n",
        "    'product_price': np.random.uniform(1, 10, N_ROWS),\n",
        "    'transaction_date': pd.date_range(start='1/1/2000', periods=N_ROWS, freq='h')\n",
        "})\n"
      ]
    },
    {
      "cell_type": "code",
      "source": [
        "# Вимірювання пам'яті до перетворення\n",
        "memory_before = df.memory_usage(deep=True).sum() / 1024**2  # для підрахунку обсягу пам'яті в байтах, потім перетворено в МБ.\n",
        "print(f\"Memory usage before conversion: {memory_before:.2f} MB\")\n"
      ],
      "metadata": {
        "colab": {
          "base_uri": "https://localhost:8080/"
        },
        "id": "kjNERK9p48KS",
        "outputId": "d4b720c8-9f94-4a0f-fd3f-c8ad3b056675"
      },
      "id": "kjNERK9p48KS",
      "execution_count": 18,
      "outputs": [
        {
          "output_type": "stream",
          "name": "stdout",
          "text": [
            "Memory usage before conversion: 134.85 MB\n"
          ]
        }
      ]
    },
    {
      "cell_type": "code",
      "source": [
        "# Перетворення стовпців на категорійний тип\n",
        "df['product_name'] = df['product_name'].astype('category')\n",
        "df['product_category'] = df['product_category'].astype('category')\n",
        "\n",
        "# Вимірювання пам'яті після перетворення\n",
        "memory_after = df.memory_usage(deep=True).sum() / 1024**2  # Пам'ять у МБ\n",
        "print(f\"Memory usage after conversion: {memory_after:.2f} MB\")\n"
      ],
      "metadata": {
        "colab": {
          "base_uri": "https://localhost:8080/"
        },
        "id": "6Zo6KVJE4_Cw",
        "outputId": "0898f95b-5a0a-4aae-f274-bdcd9e25a37c"
      },
      "id": "6Zo6KVJE4_Cw",
      "execution_count": 19,
      "outputs": [
        {
          "output_type": "stream",
          "name": "stdout",
          "text": [
            "Memory usage after conversion: 17.17 MB\n"
          ]
        }
      ]
    },
    {
      "cell_type": "code",
      "source": [
        "# Обчислення ефективності пам'яті\n",
        "memory_reduction_factor = memory_before / memory_after\n",
        "print(f\"Memory reduction factor: {memory_reduction_factor:.2f} times\")"
      ],
      "metadata": {
        "colab": {
          "base_uri": "https://localhost:8080/"
        },
        "id": "e77m9rM85TOF",
        "outputId": "f53fd7f7-4301-41f6-b674-5bdee2849be4"
      },
      "id": "e77m9rM85TOF",
      "execution_count": 20,
      "outputs": [
        {
          "output_type": "stream",
          "name": "stdout",
          "text": [
            "Memory reduction factor: 7.86 times\n"
          ]
        }
      ]
    },
    {
      "cell_type": "markdown",
      "id": "131cc08d",
      "metadata": {
        "id": "131cc08d"
      },
      "source": [
        "7.В цьому завданні кілька пунктів. Треба виконати усі послідовно.   \n",
        "    7.1. Завантажте дані у pandas dataframe з файла `ecommerce_data.csv`. Обовʼязково при завантаженні вкажіть параметр `encoding = 'ISO-8859-1'`, без нього буде помилка.  \n",
        "    7.2. Заповніть пропущені значення в колонці CustomerID на -1 та перетворіть тип цієї колонки на str, адже зараз вона типу float, а це не правильний тип даних для ідентифікатора клієнта.  \n",
        "    7.3. З допомогою бібліотеки sweetviz побудуйте html звіт, який порівнює дані для країни \"Germany\" і країни \"France\". У Вас можуть виникнути багато попереджень (Warning), їх рекомендую вимкнути наступним шматком коду   \n",
        "    \n",
        "   \n",
        "    import warnings\n",
        "\n",
        "    with warnings.catch_warnings(record=True):\n",
        "        # your code\n",
        "    \n",
        "    \n",
        "   7.4.Напишіть 5 відмінностей для двох зазначених країн на основі побудованого звіту, без виконання додаткового аналізу іншими інструментами."
      ]
    },
    {
      "cell_type": "code",
      "execution_count": 30,
      "id": "17200e77",
      "metadata": {
        "id": "17200e77",
        "colab": {
          "base_uri": "https://localhost:8080/",
          "height": 206
        },
        "outputId": "45bc9b43-7b72-495d-d5b6-e274a64a615e"
      },
      "outputs": [
        {
          "output_type": "execute_result",
          "data": {
            "text/plain": [
              "  InvoiceNo StockCode                          Description  Quantity  \\\n",
              "0    536365    85123A   WHITE HANGING HEART T-LIGHT HOLDER         6   \n",
              "1    536365     71053                  WHITE METAL LANTERN         6   \n",
              "2    536365    84406B       CREAM CUPID HEARTS COAT HANGER         8   \n",
              "3    536365    84029G  KNITTED UNION FLAG HOT WATER BOTTLE         6   \n",
              "4    536365    84029E       RED WOOLLY HOTTIE WHITE HEART.         6   \n",
              "\n",
              "      InvoiceDate  UnitPrice  CustomerID         Country  \n",
              "0  12/1/2010 8:26       2.55     17850.0  United Kingdom  \n",
              "1  12/1/2010 8:26       3.39     17850.0  United Kingdom  \n",
              "2  12/1/2010 8:26       2.75     17850.0  United Kingdom  \n",
              "3  12/1/2010 8:26       3.39     17850.0  United Kingdom  \n",
              "4  12/1/2010 8:26       3.39     17850.0  United Kingdom  "
            ],
            "text/html": [
              "\n",
              "  <div id=\"df-649b6c5d-9e0c-4894-b206-394810946385\" class=\"colab-df-container\">\n",
              "    <div>\n",
              "<style scoped>\n",
              "    .dataframe tbody tr th:only-of-type {\n",
              "        vertical-align: middle;\n",
              "    }\n",
              "\n",
              "    .dataframe tbody tr th {\n",
              "        vertical-align: top;\n",
              "    }\n",
              "\n",
              "    .dataframe thead th {\n",
              "        text-align: right;\n",
              "    }\n",
              "</style>\n",
              "<table border=\"1\" class=\"dataframe\">\n",
              "  <thead>\n",
              "    <tr style=\"text-align: right;\">\n",
              "      <th></th>\n",
              "      <th>InvoiceNo</th>\n",
              "      <th>StockCode</th>\n",
              "      <th>Description</th>\n",
              "      <th>Quantity</th>\n",
              "      <th>InvoiceDate</th>\n",
              "      <th>UnitPrice</th>\n",
              "      <th>CustomerID</th>\n",
              "      <th>Country</th>\n",
              "    </tr>\n",
              "  </thead>\n",
              "  <tbody>\n",
              "    <tr>\n",
              "      <th>0</th>\n",
              "      <td>536365</td>\n",
              "      <td>85123A</td>\n",
              "      <td>WHITE HANGING HEART T-LIGHT HOLDER</td>\n",
              "      <td>6</td>\n",
              "      <td>12/1/2010 8:26</td>\n",
              "      <td>2.55</td>\n",
              "      <td>17850.0</td>\n",
              "      <td>United Kingdom</td>\n",
              "    </tr>\n",
              "    <tr>\n",
              "      <th>1</th>\n",
              "      <td>536365</td>\n",
              "      <td>71053</td>\n",
              "      <td>WHITE METAL LANTERN</td>\n",
              "      <td>6</td>\n",
              "      <td>12/1/2010 8:26</td>\n",
              "      <td>3.39</td>\n",
              "      <td>17850.0</td>\n",
              "      <td>United Kingdom</td>\n",
              "    </tr>\n",
              "    <tr>\n",
              "      <th>2</th>\n",
              "      <td>536365</td>\n",
              "      <td>84406B</td>\n",
              "      <td>CREAM CUPID HEARTS COAT HANGER</td>\n",
              "      <td>8</td>\n",
              "      <td>12/1/2010 8:26</td>\n",
              "      <td>2.75</td>\n",
              "      <td>17850.0</td>\n",
              "      <td>United Kingdom</td>\n",
              "    </tr>\n",
              "    <tr>\n",
              "      <th>3</th>\n",
              "      <td>536365</td>\n",
              "      <td>84029G</td>\n",
              "      <td>KNITTED UNION FLAG HOT WATER BOTTLE</td>\n",
              "      <td>6</td>\n",
              "      <td>12/1/2010 8:26</td>\n",
              "      <td>3.39</td>\n",
              "      <td>17850.0</td>\n",
              "      <td>United Kingdom</td>\n",
              "    </tr>\n",
              "    <tr>\n",
              "      <th>4</th>\n",
              "      <td>536365</td>\n",
              "      <td>84029E</td>\n",
              "      <td>RED WOOLLY HOTTIE WHITE HEART.</td>\n",
              "      <td>6</td>\n",
              "      <td>12/1/2010 8:26</td>\n",
              "      <td>3.39</td>\n",
              "      <td>17850.0</td>\n",
              "      <td>United Kingdom</td>\n",
              "    </tr>\n",
              "  </tbody>\n",
              "</table>\n",
              "</div>\n",
              "    <div class=\"colab-df-buttons\">\n",
              "\n",
              "  <div class=\"colab-df-container\">\n",
              "    <button class=\"colab-df-convert\" onclick=\"convertToInteractive('df-649b6c5d-9e0c-4894-b206-394810946385')\"\n",
              "            title=\"Convert this dataframe to an interactive table.\"\n",
              "            style=\"display:none;\">\n",
              "\n",
              "  <svg xmlns=\"http://www.w3.org/2000/svg\" height=\"24px\" viewBox=\"0 -960 960 960\">\n",
              "    <path d=\"M120-120v-720h720v720H120Zm60-500h600v-160H180v160Zm220 220h160v-160H400v160Zm0 220h160v-160H400v160ZM180-400h160v-160H180v160Zm440 0h160v-160H620v160ZM180-180h160v-160H180v160Zm440 0h160v-160H620v160Z\"/>\n",
              "  </svg>\n",
              "    </button>\n",
              "\n",
              "  <style>\n",
              "    .colab-df-container {\n",
              "      display:flex;\n",
              "      gap: 12px;\n",
              "    }\n",
              "\n",
              "    .colab-df-convert {\n",
              "      background-color: #E8F0FE;\n",
              "      border: none;\n",
              "      border-radius: 50%;\n",
              "      cursor: pointer;\n",
              "      display: none;\n",
              "      fill: #1967D2;\n",
              "      height: 32px;\n",
              "      padding: 0 0 0 0;\n",
              "      width: 32px;\n",
              "    }\n",
              "\n",
              "    .colab-df-convert:hover {\n",
              "      background-color: #E2EBFA;\n",
              "      box-shadow: 0px 1px 2px rgba(60, 64, 67, 0.3), 0px 1px 3px 1px rgba(60, 64, 67, 0.15);\n",
              "      fill: #174EA6;\n",
              "    }\n",
              "\n",
              "    .colab-df-buttons div {\n",
              "      margin-bottom: 4px;\n",
              "    }\n",
              "\n",
              "    [theme=dark] .colab-df-convert {\n",
              "      background-color: #3B4455;\n",
              "      fill: #D2E3FC;\n",
              "    }\n",
              "\n",
              "    [theme=dark] .colab-df-convert:hover {\n",
              "      background-color: #434B5C;\n",
              "      box-shadow: 0px 1px 3px 1px rgba(0, 0, 0, 0.15);\n",
              "      filter: drop-shadow(0px 1px 2px rgba(0, 0, 0, 0.3));\n",
              "      fill: #FFFFFF;\n",
              "    }\n",
              "  </style>\n",
              "\n",
              "    <script>\n",
              "      const buttonEl =\n",
              "        document.querySelector('#df-649b6c5d-9e0c-4894-b206-394810946385 button.colab-df-convert');\n",
              "      buttonEl.style.display =\n",
              "        google.colab.kernel.accessAllowed ? 'block' : 'none';\n",
              "\n",
              "      async function convertToInteractive(key) {\n",
              "        const element = document.querySelector('#df-649b6c5d-9e0c-4894-b206-394810946385');\n",
              "        const dataTable =\n",
              "          await google.colab.kernel.invokeFunction('convertToInteractive',\n",
              "                                                    [key], {});\n",
              "        if (!dataTable) return;\n",
              "\n",
              "        const docLinkHtml = 'Like what you see? Visit the ' +\n",
              "          '<a target=\"_blank\" href=https://colab.research.google.com/notebooks/data_table.ipynb>data table notebook</a>'\n",
              "          + ' to learn more about interactive tables.';\n",
              "        element.innerHTML = '';\n",
              "        dataTable['output_type'] = 'display_data';\n",
              "        await google.colab.output.renderOutput(dataTable, element);\n",
              "        const docLink = document.createElement('div');\n",
              "        docLink.innerHTML = docLinkHtml;\n",
              "        element.appendChild(docLink);\n",
              "      }\n",
              "    </script>\n",
              "  </div>\n",
              "\n",
              "\n",
              "<div id=\"df-74cb6ba9-712f-44dc-942b-f7e06bb6e055\">\n",
              "  <button class=\"colab-df-quickchart\" onclick=\"quickchart('df-74cb6ba9-712f-44dc-942b-f7e06bb6e055')\"\n",
              "            title=\"Suggest charts\"\n",
              "            style=\"display:none;\">\n",
              "\n",
              "<svg xmlns=\"http://www.w3.org/2000/svg\" height=\"24px\"viewBox=\"0 0 24 24\"\n",
              "     width=\"24px\">\n",
              "    <g>\n",
              "        <path d=\"M19 3H5c-1.1 0-2 .9-2 2v14c0 1.1.9 2 2 2h14c1.1 0 2-.9 2-2V5c0-1.1-.9-2-2-2zM9 17H7v-7h2v7zm4 0h-2V7h2v10zm4 0h-2v-4h2v4z\"/>\n",
              "    </g>\n",
              "</svg>\n",
              "  </button>\n",
              "\n",
              "<style>\n",
              "  .colab-df-quickchart {\n",
              "      --bg-color: #E8F0FE;\n",
              "      --fill-color: #1967D2;\n",
              "      --hover-bg-color: #E2EBFA;\n",
              "      --hover-fill-color: #174EA6;\n",
              "      --disabled-fill-color: #AAA;\n",
              "      --disabled-bg-color: #DDD;\n",
              "  }\n",
              "\n",
              "  [theme=dark] .colab-df-quickchart {\n",
              "      --bg-color: #3B4455;\n",
              "      --fill-color: #D2E3FC;\n",
              "      --hover-bg-color: #434B5C;\n",
              "      --hover-fill-color: #FFFFFF;\n",
              "      --disabled-bg-color: #3B4455;\n",
              "      --disabled-fill-color: #666;\n",
              "  }\n",
              "\n",
              "  .colab-df-quickchart {\n",
              "    background-color: var(--bg-color);\n",
              "    border: none;\n",
              "    border-radius: 50%;\n",
              "    cursor: pointer;\n",
              "    display: none;\n",
              "    fill: var(--fill-color);\n",
              "    height: 32px;\n",
              "    padding: 0;\n",
              "    width: 32px;\n",
              "  }\n",
              "\n",
              "  .colab-df-quickchart:hover {\n",
              "    background-color: var(--hover-bg-color);\n",
              "    box-shadow: 0 1px 2px rgba(60, 64, 67, 0.3), 0 1px 3px 1px rgba(60, 64, 67, 0.15);\n",
              "    fill: var(--button-hover-fill-color);\n",
              "  }\n",
              "\n",
              "  .colab-df-quickchart-complete:disabled,\n",
              "  .colab-df-quickchart-complete:disabled:hover {\n",
              "    background-color: var(--disabled-bg-color);\n",
              "    fill: var(--disabled-fill-color);\n",
              "    box-shadow: none;\n",
              "  }\n",
              "\n",
              "  .colab-df-spinner {\n",
              "    border: 2px solid var(--fill-color);\n",
              "    border-color: transparent;\n",
              "    border-bottom-color: var(--fill-color);\n",
              "    animation:\n",
              "      spin 1s steps(1) infinite;\n",
              "  }\n",
              "\n",
              "  @keyframes spin {\n",
              "    0% {\n",
              "      border-color: transparent;\n",
              "      border-bottom-color: var(--fill-color);\n",
              "      border-left-color: var(--fill-color);\n",
              "    }\n",
              "    20% {\n",
              "      border-color: transparent;\n",
              "      border-left-color: var(--fill-color);\n",
              "      border-top-color: var(--fill-color);\n",
              "    }\n",
              "    30% {\n",
              "      border-color: transparent;\n",
              "      border-left-color: var(--fill-color);\n",
              "      border-top-color: var(--fill-color);\n",
              "      border-right-color: var(--fill-color);\n",
              "    }\n",
              "    40% {\n",
              "      border-color: transparent;\n",
              "      border-right-color: var(--fill-color);\n",
              "      border-top-color: var(--fill-color);\n",
              "    }\n",
              "    60% {\n",
              "      border-color: transparent;\n",
              "      border-right-color: var(--fill-color);\n",
              "    }\n",
              "    80% {\n",
              "      border-color: transparent;\n",
              "      border-right-color: var(--fill-color);\n",
              "      border-bottom-color: var(--fill-color);\n",
              "    }\n",
              "    90% {\n",
              "      border-color: transparent;\n",
              "      border-bottom-color: var(--fill-color);\n",
              "    }\n",
              "  }\n",
              "</style>\n",
              "\n",
              "  <script>\n",
              "    async function quickchart(key) {\n",
              "      const quickchartButtonEl =\n",
              "        document.querySelector('#' + key + ' button');\n",
              "      quickchartButtonEl.disabled = true;  // To prevent multiple clicks.\n",
              "      quickchartButtonEl.classList.add('colab-df-spinner');\n",
              "      try {\n",
              "        const charts = await google.colab.kernel.invokeFunction(\n",
              "            'suggestCharts', [key], {});\n",
              "      } catch (error) {\n",
              "        console.error('Error during call to suggestCharts:', error);\n",
              "      }\n",
              "      quickchartButtonEl.classList.remove('colab-df-spinner');\n",
              "      quickchartButtonEl.classList.add('colab-df-quickchart-complete');\n",
              "    }\n",
              "    (() => {\n",
              "      let quickchartButtonEl =\n",
              "        document.querySelector('#df-74cb6ba9-712f-44dc-942b-f7e06bb6e055 button');\n",
              "      quickchartButtonEl.style.display =\n",
              "        google.colab.kernel.accessAllowed ? 'block' : 'none';\n",
              "    })();\n",
              "  </script>\n",
              "</div>\n",
              "\n",
              "    </div>\n",
              "  </div>\n"
            ],
            "application/vnd.google.colaboratory.intrinsic+json": {
              "type": "dataframe",
              "variable_name": "df"
            }
          },
          "metadata": {},
          "execution_count": 30
        }
      ],
      "source": [
        "#7.1\n",
        "import pandas as pd\n",
        "\n",
        "# Завантаження даних з файлу з вказанням кодування\n",
        "df = pd.read_csv('ecommerce_data.csv', encoding='ISO-8859-1')\n",
        "\n",
        "\n",
        "df.head()\n"
      ]
    },
    {
      "cell_type": "code",
      "source": [
        "#7.2\n",
        "# Підрахунок кількості пропущених значень у колонці CustomerID\n",
        "missing_count = df['CustomerID'].isnull().sum()\n",
        "print(f\"Кількість пропущених значень у колонці CustomerID: {missing_count}\")"
      ],
      "metadata": {
        "colab": {
          "base_uri": "https://localhost:8080/"
        },
        "id": "aEJNnPy4Baym",
        "outputId": "961649ef-0ad9-4842-d2e6-20413cbdc3d4"
      },
      "id": "aEJNnPy4Baym",
      "execution_count": 31,
      "outputs": [
        {
          "output_type": "stream",
          "name": "stdout",
          "text": [
            "Кількість пропущених значень у колонці CustomerID: 135080\n"
          ]
        }
      ]
    },
    {
      "cell_type": "code",
      "source": [
        "#7.2\n",
        "# Заповнення пропущених значень у колонці CustomerID значенням -1\n",
        "df['CustomerID'] = df['CustomerID'].fillna(-1)\n",
        "\n",
        "# Перетворення типу колонки CustomerID на str\n",
        "df['CustomerID'] = df['CustomerID'].astype(str)\n",
        "\n",
        "# Перевірка змін\n",
        "print(df['CustomerID'].head())\n",
        "print(df['CustomerID'].dtype)\n",
        "# Перевірка унікальних значень у колонці CustomerID\n",
        "print(df['CustomerID'].unique())\n"
      ],
      "metadata": {
        "colab": {
          "base_uri": "https://localhost:8080/"
        },
        "id": "Iqt89irFAOxT",
        "outputId": "2080998a-0e60-49d2-9d67-849746303fb2"
      },
      "id": "Iqt89irFAOxT",
      "execution_count": 32,
      "outputs": [
        {
          "output_type": "stream",
          "name": "stdout",
          "text": [
            "0    17850.0\n",
            "1    17850.0\n",
            "2    17850.0\n",
            "3    17850.0\n",
            "4    17850.0\n",
            "Name: CustomerID, dtype: object\n",
            "object\n",
            "['17850.0' '13047.0' '12583.0' ... '13298.0' '14569.0' '12713.0']\n"
          ]
        }
      ]
    },
    {
      "cell_type": "code",
      "source": [
        "# Підрахунок кількості пропущених значень у колонці CustomerID\n",
        "missing_count = df['CustomerID'].isnull().sum()\n",
        "print(f\"Кількість пропущених значень у колонці CustomerID: {missing_count}\")"
      ],
      "metadata": {
        "colab": {
          "base_uri": "https://localhost:8080/"
        },
        "id": "giyRpcM6BSor",
        "outputId": "fe987ea6-b6fa-46a3-bb44-c0bfa2350d28"
      },
      "id": "giyRpcM6BSor",
      "execution_count": 33,
      "outputs": [
        {
          "output_type": "stream",
          "name": "stdout",
          "text": [
            "Кількість пропущених значень у колонці CustomerID: 0\n"
          ]
        }
      ]
    },
    {
      "cell_type": "code",
      "source": [
        "#7.3\n",
        "!pip install sweetviz\n",
        "\n"
      ],
      "metadata": {
        "colab": {
          "base_uri": "https://localhost:8080/"
        },
        "collapsed": true,
        "id": "j9y-6U7XBy81",
        "outputId": "6d4d1aca-6638-4a56-9aa0-13dcefe9c196"
      },
      "id": "j9y-6U7XBy81",
      "execution_count": 35,
      "outputs": [
        {
          "output_type": "stream",
          "name": "stdout",
          "text": [
            "Collecting sweetviz\n",
            "  Downloading sweetviz-2.3.1-py3-none-any.whl.metadata (24 kB)\n",
            "Requirement already satisfied: pandas!=1.0.0,!=1.0.1,!=1.0.2,>=0.25.3 in /usr/local/lib/python3.10/dist-packages (from sweetviz) (2.2.2)\n",
            "Requirement already satisfied: numpy>=1.16.0 in /usr/local/lib/python3.10/dist-packages (from sweetviz) (1.26.4)\n",
            "Requirement already satisfied: matplotlib>=3.1.3 in /usr/local/lib/python3.10/dist-packages (from sweetviz) (3.7.1)\n",
            "Requirement already satisfied: tqdm>=4.43.0 in /usr/local/lib/python3.10/dist-packages (from sweetviz) (4.66.5)\n",
            "Requirement already satisfied: scipy>=1.3.2 in /usr/local/lib/python3.10/dist-packages (from sweetviz) (1.13.1)\n",
            "Requirement already satisfied: jinja2>=2.11.1 in /usr/local/lib/python3.10/dist-packages (from sweetviz) (3.1.4)\n",
            "Requirement already satisfied: importlib-resources>=1.2.0 in /usr/local/lib/python3.10/dist-packages (from sweetviz) (6.4.5)\n",
            "Requirement already satisfied: MarkupSafe>=2.0 in /usr/local/lib/python3.10/dist-packages (from jinja2>=2.11.1->sweetviz) (3.0.2)\n",
            "Requirement already satisfied: contourpy>=1.0.1 in /usr/local/lib/python3.10/dist-packages (from matplotlib>=3.1.3->sweetviz) (1.3.0)\n",
            "Requirement already satisfied: cycler>=0.10 in /usr/local/lib/python3.10/dist-packages (from matplotlib>=3.1.3->sweetviz) (0.12.1)\n",
            "Requirement already satisfied: fonttools>=4.22.0 in /usr/local/lib/python3.10/dist-packages (from matplotlib>=3.1.3->sweetviz) (4.54.1)\n",
            "Requirement already satisfied: kiwisolver>=1.0.1 in /usr/local/lib/python3.10/dist-packages (from matplotlib>=3.1.3->sweetviz) (1.4.7)\n",
            "Requirement already satisfied: packaging>=20.0 in /usr/local/lib/python3.10/dist-packages (from matplotlib>=3.1.3->sweetviz) (24.1)\n",
            "Requirement already satisfied: pillow>=6.2.0 in /usr/local/lib/python3.10/dist-packages (from matplotlib>=3.1.3->sweetviz) (10.4.0)\n",
            "Requirement already satisfied: pyparsing>=2.3.1 in /usr/local/lib/python3.10/dist-packages (from matplotlib>=3.1.3->sweetviz) (3.2.0)\n",
            "Requirement already satisfied: python-dateutil>=2.7 in /usr/local/lib/python3.10/dist-packages (from matplotlib>=3.1.3->sweetviz) (2.8.2)\n",
            "Requirement already satisfied: pytz>=2020.1 in /usr/local/lib/python3.10/dist-packages (from pandas!=1.0.0,!=1.0.1,!=1.0.2,>=0.25.3->sweetviz) (2024.2)\n",
            "Requirement already satisfied: tzdata>=2022.7 in /usr/local/lib/python3.10/dist-packages (from pandas!=1.0.0,!=1.0.1,!=1.0.2,>=0.25.3->sweetviz) (2024.2)\n",
            "Requirement already satisfied: six>=1.5 in /usr/local/lib/python3.10/dist-packages (from python-dateutil>=2.7->matplotlib>=3.1.3->sweetviz) (1.16.0)\n",
            "Downloading sweetviz-2.3.1-py3-none-any.whl (15.1 MB)\n",
            "\u001b[2K   \u001b[90m━━━━━━━━━━━━━━━━━━━━━━━━━━━━━━━━━━━━━━━━\u001b[0m \u001b[32m15.1/15.1 MB\u001b[0m \u001b[31m66.2 MB/s\u001b[0m eta \u001b[36m0:00:00\u001b[0m\n",
            "\u001b[?25hInstalling collected packages: sweetviz\n",
            "Successfully installed sweetviz-2.3.1\n"
          ]
        }
      ]
    },
    {
      "cell_type": "code",
      "source": [
        "import pandas as pd\n",
        "import sweetviz as sv\n",
        "import warnings\n",
        "\n",
        "\n",
        "# Завантаження даних з файлу з вказанням кодування\n",
        "df = pd.read_csv('ecommerce_data.csv', encoding='ISO-8859-1')\n"
      ],
      "metadata": {
        "id": "qwul_VTRCOG-"
      },
      "id": "qwul_VTRCOG-",
      "execution_count": 37,
      "outputs": []
    },
    {
      "cell_type": "code",
      "source": [
        "# Вимкнення попереджень\n",
        "with warnings.catch_warnings(record=True):\n",
        "    # Фільтрація даних для країн Germany і France\n",
        "    df_filtered = df[df['Country'].isin(['Germany', 'France'])]\n",
        "\n",
        "    # Створення звіту Sweetviz\n",
        "    report = sv.compare([df_filtered[df_filtered['Country'] == 'Germany'], \"Germany\"],\n",
        "                        [df_filtered[df_filtered['Country'] == 'France'], \"France\"])\n",
        "\n",
        "    # Збереження звіту у HTML файл\n",
        "    report.show_html('comparison_report.html')"
      ],
      "metadata": {
        "colab": {
          "base_uri": "https://localhost:8080/",
          "height": 66,
          "referenced_widgets": [
            "aba27bf78bda47edadd35a76b04163ae",
            "02045f00ae9f4eff81f4424a767a3ecf",
            "584d099d4c9e4e1197e6ee67355dc42f",
            "fcfa3b4a11f149568ec42c810f24a5df",
            "aa3843b8e0f04d92be7a63d9f2b7b64d",
            "2786cbad808942ac8c3a462cf5c00e70",
            "16410b609a2a4d558ba41dce7fa05446",
            "3e8bf4f222714f80bfea39b19532319b",
            "3a69fc82868a4685ab5049d125d030b1",
            "7ffa62e7a2f3499b807199c3bf3d9fc6",
            "0612b37b7f7d48f8963050db8e02f5a8"
          ]
        },
        "id": "5Kf2AUj2CbEY",
        "outputId": "4bda6aa7-fc16-43b5-b773-f76c2b848d2c"
      },
      "id": "5Kf2AUj2CbEY",
      "execution_count": 38,
      "outputs": [
        {
          "output_type": "display_data",
          "data": {
            "text/plain": [
              "                                             |          | [  0%]   00:00 -> (? left)"
            ],
            "application/vnd.jupyter.widget-view+json": {
              "version_major": 2,
              "version_minor": 0,
              "model_id": "aba27bf78bda47edadd35a76b04163ae"
            }
          },
          "metadata": {}
        },
        {
          "output_type": "stream",
          "name": "stdout",
          "text": [
            "Report comparison_report.html was generated! NOTEBOOK/COLAB USERS: the web browser MAY not pop up, regardless, the report IS saved in your notebook/colab files.\n"
          ]
        }
      ]
    },
    {
      "cell_type": "code",
      "source": [
        "from google.colab import files\n",
        "\n",
        "# Завантаження збереженого звіту\n",
        "files.download('comparison_report.html')"
      ],
      "metadata": {
        "colab": {
          "base_uri": "https://localhost:8080/",
          "height": 17
        },
        "id": "ob3TDNZxDER-",
        "outputId": "16c45cd4-1a6d-4852-c7a5-e39b181172dd"
      },
      "id": "ob3TDNZxDER-",
      "execution_count": 39,
      "outputs": [
        {
          "output_type": "display_data",
          "data": {
            "text/plain": [
              "<IPython.core.display.Javascript object>"
            ],
            "application/javascript": [
              "\n",
              "    async function download(id, filename, size) {\n",
              "      if (!google.colab.kernel.accessAllowed) {\n",
              "        return;\n",
              "      }\n",
              "      const div = document.createElement('div');\n",
              "      const label = document.createElement('label');\n",
              "      label.textContent = `Downloading \"${filename}\": `;\n",
              "      div.appendChild(label);\n",
              "      const progress = document.createElement('progress');\n",
              "      progress.max = size;\n",
              "      div.appendChild(progress);\n",
              "      document.body.appendChild(div);\n",
              "\n",
              "      const buffers = [];\n",
              "      let downloaded = 0;\n",
              "\n",
              "      const channel = await google.colab.kernel.comms.open(id);\n",
              "      // Send a message to notify the kernel that we're ready.\n",
              "      channel.send({})\n",
              "\n",
              "      for await (const message of channel.messages) {\n",
              "        // Send a message to notify the kernel that we're ready.\n",
              "        channel.send({})\n",
              "        if (message.buffers) {\n",
              "          for (const buffer of message.buffers) {\n",
              "            buffers.push(buffer);\n",
              "            downloaded += buffer.byteLength;\n",
              "            progress.value = downloaded;\n",
              "          }\n",
              "        }\n",
              "      }\n",
              "      const blob = new Blob(buffers, {type: 'application/binary'});\n",
              "      const a = document.createElement('a');\n",
              "      a.href = window.URL.createObjectURL(blob);\n",
              "      a.download = filename;\n",
              "      div.appendChild(a);\n",
              "      a.click();\n",
              "      div.remove();\n",
              "    }\n",
              "  "
            ]
          },
          "metadata": {}
        },
        {
          "output_type": "display_data",
          "data": {
            "text/plain": [
              "<IPython.core.display.Javascript object>"
            ],
            "application/javascript": [
              "download(\"download_16c1f1d7-8bab-4e1d-bc9f-161ea1caf71d\", \"comparison_report.html\", 944055)"
            ]
          },
          "metadata": {}
        }
      ]
    },
    {
      "cell_type": "markdown",
      "source": [
        "    7.4\n",
        "\n",
        "1.   Використання пам'яті\n",
        "Німеччина: 3.6 MB\n",
        "\n",
        "Франція: 3.2 MB\n",
        "\n",
        "Висновок: Німеччина займає більше пам'яті, що може бути пов'язано з більшою кількістю даних або особливостями структури даних.\n",
        "\n",
        "2.   Кількість дублікатів\n",
        "Німеччина: 15 дублікатів\n",
        "\n",
        "Франція: 16 дублікатів\n",
        "\n",
        "Висновок: Хоча кількість дублікатів незначна, у Франції їх трохи більше, що може свідчити про деякі повторювані транзакції або записи\n",
        "\n",
        "3.   Кількість рядків\n",
        "\n",
        "Німеччина: 9495 рядків\n",
        "\n",
        "Франція: 8557 рядків\n",
        "\n",
        "Висновок: Німеччина має більшу кількість рядків, що може вказувати на більше продажів.\n",
        "\n",
        "4.   Кількість унікальних цін\n",
        "\n",
        "Німеччина: 2 унікальні Unit Price (< 1% від загальної кількості).\n",
        "\n",
        "Франція: 1 унікальний Unit Price (< 1% від загальної кількості).\n",
        "\n",
        "Висновок: Німеччина має більше різноманіття в цінах на продукти. Це може свідчити про ширший асортимент товарівї.\n",
        "\n",
        "5.  Кількість унікальних значень\n",
        "\n",
        "Німеччина: 68 унікальних значень кількості (< 1% від загальної кількості).\n",
        "\n",
        "Франція: 77 унікальних значень кількості (< 1% від загальної кількості).\n",
        "\n",
        "Висновок: У Франції більше унікальних значень кількості, що може свідчити про різноманітність асортименту товарів.\n"
      ],
      "metadata": {
        "id": "qPWBtzXLEM2X"
      },
      "id": "qPWBtzXLEM2X"
    },
    {
      "cell_type": "markdown",
      "id": "07ae375a",
      "metadata": {
        "ExecuteTime": {
          "end_time": "2023-07-30T18:55:42.650457Z",
          "start_time": "2023-07-30T18:55:42.635729Z"
        },
        "id": "07ae375a"
      },
      "source": [
        "8.З допомогою ChatGPT виявіть, чи є та які помилки в наступному коді.  \n",
        "Попросіть після цього переписати код із дотриманням PEP8. Проаналізуйте результат. Чи справді ChatGPT виправив всі стилістичні помилки? Якщо ні, напишіть йому ще кілька запитів, аби код відповідав вимогам PEP8.  \n",
        "Вставте фінальну версію коду з чату у ноутбук та запустіть на заданому списку. Має вертатись 50.  \n",
        "Напишіть, які промпти (інструкції) при зверненні до ChatGPT ви застосували та додайте скріншот(-и) з промптами та відповідями чата.  \n",
        "Якщо зробили висновки при виконанні цього завдання, то діліться також :)\n",
        "\n",
        "**ЯК ВСТАВИТИ СКРІНШОТ в Jupyter Notebook** :\n",
        "1. Створіть нову Markdown клітинку\n",
        "2. В новоствореній клітинці обираєте в меню Jupyter Notebook Edit -> Insert Image\n",
        "3. Обираєте картинку\n",
        "4. В клітинці має зʼявитись текст, який містить картинку. Запустіть клітинку.\n",
        "\n",
        "Або можна просто перетягнути картинку в Markdown клітинку."
      ]
    },
    {
      "cell_type": "code",
      "execution_count": 40,
      "id": "a5c010c4",
      "metadata": {
        "ExecuteTime": {
          "end_time": "2023-07-30T19:16:20.977219Z",
          "start_time": "2023-07-30T19:16:20.973688Z"
        },
        "id": "a5c010c4"
      },
      "outputs": [],
      "source": [
        "def CalculateVariance(nl):\n",
        "    sum_list = 0\n",
        "    for n in nl:\n",
        "        sum_list = sum_list + n\n",
        "    mean = sum_list / len(nl)\n",
        "    sum_squares = 0\n",
        "    for n in nl:\n",
        "        sum_squares = sum_squares + n**2\n",
        "    mean_squares = sum_squares / len(nl)\n",
        "    return mean_squares"
      ]
    },
    {
      "cell_type": "code",
      "execution_count": 41,
      "id": "24bb3f81",
      "metadata": {
        "ExecuteTime": {
          "end_time": "2023-07-30T19:16:09.201841Z",
          "start_time": "2023-07-30T19:16:09.199174Z"
        },
        "id": "24bb3f81"
      },
      "outputs": [],
      "source": [
        "input_list = [75, 80, 85, 90, 95]"
      ]
    },
    {
      "cell_type": "code",
      "source": [
        "def calculate_variance(nl):\n",
        "    \"\"\"Обчислити дисперсію списку чисел.\"\"\"\n",
        "\n",
        "    mean = sum(nl) / len(nl)  # Середнє значення\n",
        "\n",
        "    # Сума квадратів відхилень від середнього\n",
        "    sum_squares = sum((n - mean) ** 2 for n in nl)\n",
        "\n",
        "    # Дисперсія\n",
        "    variance = sum_squares / len(nl)\n",
        "\n",
        "    return variance\n",
        "\n",
        "# Тестування функції\n",
        "input_data = [75, 80, 85, 90, 95]\n",
        "result = calculate_variance(input_data)\n",
        "print(result)\n",
        "\n"
      ],
      "metadata": {
        "colab": {
          "base_uri": "https://localhost:8080/"
        },
        "id": "01Bxt9yeKVyu",
        "outputId": "ffd8289f-618e-4889-e65e-d34bc048144f"
      },
      "id": "01Bxt9yeKVyu",
      "execution_count": 45,
      "outputs": [
        {
          "output_type": "stream",
          "name": "stdout",
          "text": [
            "50.0\n"
          ]
        }
      ]
    },
    {
      "cell_type": "markdown",
      "source": [
        "![Monosnap+%D0%A1%D0%BD%D0%B8%D0%BC%D0%BE%D0%BA+2024-10-30+22.52.04.png](data:image/png;base64,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)"
      ],
      "metadata": {
        "id": "ALtLBvi6N2Ih"
      },
      "id": "ALtLBvi6N2Ih"
    },
    {
      "cell_type": "markdown",
      "source": [
        "![Monosnap Снимок 2024-10-30 22.54.52.png](data:image/png;base64,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)"
      ],
      "metadata": {
        "id": "Nkwhb9yDN_5C"
      },
      "id": "Nkwhb9yDN_5C"
    }
  ],
  "metadata": {
    "kernelspec": {
      "display_name": "Python 3 (ipykernel)",
      "language": "python",
      "name": "python3"
    },
    "language_info": {
      "codemirror_mode": {
        "name": "ipython",
        "version": 3
      },
      "file_extension": ".py",
      "mimetype": "text/x-python",
      "name": "python",
      "nbconvert_exporter": "python",
      "pygments_lexer": "ipython3",
      "version": "3.10.4"
    },
    "toc": {
      "base_numbering": 1,
      "nav_menu": {},
      "number_sections": true,
      "sideBar": true,
      "skip_h1_title": false,
      "title_cell": "Table of Contents",
      "title_sidebar": "Contents",
      "toc_cell": false,
      "toc_position": {},
      "toc_section_display": true,
      "toc_window_display": false
    },
    "colab": {
      "provenance": [],
      "include_colab_link": true
    },
    "widgets": {
      "application/vnd.jupyter.widget-state+json": {
        "aba27bf78bda47edadd35a76b04163ae": {
          "model_module": "@jupyter-widgets/controls",
          "model_name": "HBoxModel",
          "model_module_version": "1.5.0",
          "state": {
            "_dom_classes": [],
            "_model_module": "@jupyter-widgets/controls",
            "_model_module_version": "1.5.0",
            "_model_name": "HBoxModel",
            "_view_count": null,
            "_view_module": "@jupyter-widgets/controls",
            "_view_module_version": "1.5.0",
            "_view_name": "HBoxView",
            "box_style": "",
            "children": [
              "IPY_MODEL_02045f00ae9f4eff81f4424a767a3ecf",
              "IPY_MODEL_584d099d4c9e4e1197e6ee67355dc42f",
              "IPY_MODEL_fcfa3b4a11f149568ec42c810f24a5df"
            ],
            "layout": "IPY_MODEL_aa3843b8e0f04d92be7a63d9f2b7b64d"
          }
        },
        "02045f00ae9f4eff81f4424a767a3ecf": {
          "model_module": "@jupyter-widgets/controls",
          "model_name": "HTMLModel",
          "model_module_version": "1.5.0",
          "state": {
            "_dom_classes": [],
            "_model_module": "@jupyter-widgets/controls",
            "_model_module_version": "1.5.0",
            "_model_name": "HTMLModel",
            "_view_count": null,
            "_view_module": "@jupyter-widgets/controls",
            "_view_module_version": "1.5.0",
            "_view_name": "HTMLView",
            "description": "",
            "description_tooltip": null,
            "layout": "IPY_MODEL_2786cbad808942ac8c3a462cf5c00e70",
            "placeholder": "​",
            "style": "IPY_MODEL_16410b609a2a4d558ba41dce7fa05446",
            "value": "Done! Use &#x27;show&#x27; commands to display/save.   "
          }
        },
        "584d099d4c9e4e1197e6ee67355dc42f": {
          "model_module": "@jupyter-widgets/controls",
          "model_name": "FloatProgressModel",
          "model_module_version": "1.5.0",
          "state": {
            "_dom_classes": [],
            "_model_module": "@jupyter-widgets/controls",
            "_model_module_version": "1.5.0",
            "_model_name": "FloatProgressModel",
            "_view_count": null,
            "_view_module": "@jupyter-widgets/controls",
            "_view_module_version": "1.5.0",
            "_view_name": "ProgressView",
            "bar_style": "success",
            "description": "",
            "description_tooltip": null,
            "layout": "IPY_MODEL_3e8bf4f222714f80bfea39b19532319b",
            "max": 1,
            "min": 0,
            "orientation": "horizontal",
            "style": "IPY_MODEL_3a69fc82868a4685ab5049d125d030b1",
            "value": 1
          }
        },
        "fcfa3b4a11f149568ec42c810f24a5df": {
          "model_module": "@jupyter-widgets/controls",
          "model_name": "HTMLModel",
          "model_module_version": "1.5.0",
          "state": {
            "_dom_classes": [],
            "_model_module": "@jupyter-widgets/controls",
            "_model_module_version": "1.5.0",
            "_model_name": "HTMLModel",
            "_view_count": null,
            "_view_module": "@jupyter-widgets/controls",
            "_view_module_version": "1.5.0",
            "_view_name": "HTMLView",
            "description": "",
            "description_tooltip": null,
            "layout": "IPY_MODEL_7ffa62e7a2f3499b807199c3bf3d9fc6",
            "placeholder": "​",
            "style": "IPY_MODEL_0612b37b7f7d48f8963050db8e02f5a8",
            "value": " [100%]   00:01 -&gt; (00:00 left)"
          }
        },
        "aa3843b8e0f04d92be7a63d9f2b7b64d": {
          "model_module": "@jupyter-widgets/base",
          "model_name": "LayoutModel",
          "model_module_version": "1.2.0",
          "state": {
            "_model_module": "@jupyter-widgets/base",
            "_model_module_version": "1.2.0",
            "_model_name": "LayoutModel",
            "_view_count": null,
            "_view_module": "@jupyter-widgets/base",
            "_view_module_version": "1.2.0",
            "_view_name": "LayoutView",
            "align_content": null,
            "align_items": null,
            "align_self": null,
            "border": null,
            "bottom": null,
            "display": "inline-flex",
            "flex": null,
            "flex_flow": "row wrap",
            "grid_area": null,
            "grid_auto_columns": null,
            "grid_auto_flow": null,
            "grid_auto_rows": null,
            "grid_column": null,
            "grid_gap": null,
            "grid_row": null,
            "grid_template_areas": null,
            "grid_template_columns": null,
            "grid_template_rows": null,
            "height": null,
            "justify_content": null,
            "justify_items": null,
            "left": null,
            "margin": null,
            "max_height": null,
            "max_width": null,
            "min_height": null,
            "min_width": null,
            "object_fit": null,
            "object_position": null,
            "order": null,
            "overflow": null,
            "overflow_x": null,
            "overflow_y": null,
            "padding": null,
            "right": null,
            "top": null,
            "visibility": null,
            "width": "100%"
          }
        },
        "2786cbad808942ac8c3a462cf5c00e70": {
          "model_module": "@jupyter-widgets/base",
          "model_name": "LayoutModel",
          "model_module_version": "1.2.0",
          "state": {
            "_model_module": "@jupyter-widgets/base",
            "_model_module_version": "1.2.0",
            "_model_name": "LayoutModel",
            "_view_count": null,
            "_view_module": "@jupyter-widgets/base",
            "_view_module_version": "1.2.0",
            "_view_name": "LayoutView",
            "align_content": null,
            "align_items": null,
            "align_self": null,
            "border": null,
            "bottom": null,
            "display": null,
            "flex": null,
            "flex_flow": null,
            "grid_area": null,
            "grid_auto_columns": null,
            "grid_auto_flow": null,
            "grid_auto_rows": null,
            "grid_column": null,
            "grid_gap": null,
            "grid_row": null,
            "grid_template_areas": null,
            "grid_template_columns": null,
            "grid_template_rows": null,
            "height": null,
            "justify_content": null,
            "justify_items": null,
            "left": null,
            "margin": null,
            "max_height": null,
            "max_width": null,
            "min_height": null,
            "min_width": null,
            "object_fit": null,
            "object_position": null,
            "order": null,
            "overflow": null,
            "overflow_x": null,
            "overflow_y": null,
            "padding": null,
            "right": null,
            "top": null,
            "visibility": null,
            "width": null
          }
        },
        "16410b609a2a4d558ba41dce7fa05446": {
          "model_module": "@jupyter-widgets/controls",
          "model_name": "DescriptionStyleModel",
          "model_module_version": "1.5.0",
          "state": {
            "_model_module": "@jupyter-widgets/controls",
            "_model_module_version": "1.5.0",
            "_model_name": "DescriptionStyleModel",
            "_view_count": null,
            "_view_module": "@jupyter-widgets/base",
            "_view_module_version": "1.2.0",
            "_view_name": "StyleView",
            "description_width": ""
          }
        },
        "3e8bf4f222714f80bfea39b19532319b": {
          "model_module": "@jupyter-widgets/base",
          "model_name": "LayoutModel",
          "model_module_version": "1.2.0",
          "state": {
            "_model_module": "@jupyter-widgets/base",
            "_model_module_version": "1.2.0",
            "_model_name": "LayoutModel",
            "_view_count": null,
            "_view_module": "@jupyter-widgets/base",
            "_view_module_version": "1.2.0",
            "_view_name": "LayoutView",
            "align_content": null,
            "align_items": null,
            "align_self": null,
            "border": null,
            "bottom": null,
            "display": null,
            "flex": "2",
            "flex_flow": null,
            "grid_area": null,
            "grid_auto_columns": null,
            "grid_auto_flow": null,
            "grid_auto_rows": null,
            "grid_column": null,
            "grid_gap": null,
            "grid_row": null,
            "grid_template_areas": null,
            "grid_template_columns": null,
            "grid_template_rows": null,
            "height": null,
            "justify_content": null,
            "justify_items": null,
            "left": null,
            "margin": null,
            "max_height": null,
            "max_width": null,
            "min_height": null,
            "min_width": null,
            "object_fit": null,
            "object_position": null,
            "order": null,
            "overflow": null,
            "overflow_x": null,
            "overflow_y": null,
            "padding": null,
            "right": null,
            "top": null,
            "visibility": null,
            "width": null
          }
        },
        "3a69fc82868a4685ab5049d125d030b1": {
          "model_module": "@jupyter-widgets/controls",
          "model_name": "ProgressStyleModel",
          "model_module_version": "1.5.0",
          "state": {
            "_model_module": "@jupyter-widgets/controls",
            "_model_module_version": "1.5.0",
            "_model_name": "ProgressStyleModel",
            "_view_count": null,
            "_view_module": "@jupyter-widgets/base",
            "_view_module_version": "1.2.0",
            "_view_name": "StyleView",
            "bar_color": null,
            "description_width": ""
          }
        },
        "7ffa62e7a2f3499b807199c3bf3d9fc6": {
          "model_module": "@jupyter-widgets/base",
          "model_name": "LayoutModel",
          "model_module_version": "1.2.0",
          "state": {
            "_model_module": "@jupyter-widgets/base",
            "_model_module_version": "1.2.0",
            "_model_name": "LayoutModel",
            "_view_count": null,
            "_view_module": "@jupyter-widgets/base",
            "_view_module_version": "1.2.0",
            "_view_name": "LayoutView",
            "align_content": null,
            "align_items": null,
            "align_self": null,
            "border": null,
            "bottom": null,
            "display": null,
            "flex": null,
            "flex_flow": null,
            "grid_area": null,
            "grid_auto_columns": null,
            "grid_auto_flow": null,
            "grid_auto_rows": null,
            "grid_column": null,
            "grid_gap": null,
            "grid_row": null,
            "grid_template_areas": null,
            "grid_template_columns": null,
            "grid_template_rows": null,
            "height": null,
            "justify_content": null,
            "justify_items": null,
            "left": null,
            "margin": null,
            "max_height": null,
            "max_width": null,
            "min_height": null,
            "min_width": null,
            "object_fit": null,
            "object_position": null,
            "order": null,
            "overflow": null,
            "overflow_x": null,
            "overflow_y": null,
            "padding": null,
            "right": null,
            "top": null,
            "visibility": null,
            "width": null
          }
        },
        "0612b37b7f7d48f8963050db8e02f5a8": {
          "model_module": "@jupyter-widgets/controls",
          "model_name": "DescriptionStyleModel",
          "model_module_version": "1.5.0",
          "state": {
            "_model_module": "@jupyter-widgets/controls",
            "_model_module_version": "1.5.0",
            "_model_name": "DescriptionStyleModel",
            "_view_count": null,
            "_view_module": "@jupyter-widgets/base",
            "_view_module_version": "1.2.0",
            "_view_name": "StyleView",
            "description_width": ""
          }
        }
      }
    }
  },
  "nbformat": 4,
  "nbformat_minor": 5
}
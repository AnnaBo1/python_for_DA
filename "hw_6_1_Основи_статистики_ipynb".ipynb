{
  "nbformat": 4,
  "nbformat_minor": 0,
  "metadata": {
    "colab": {
      "provenance": [],
      "include_colab_link": true
    },
    "kernelspec": {
      "name": "python3",
      "display_name": "Python 3"
    },
    "language_info": {
      "name": "python"
    }
  },
  "cells": [
    {
      "cell_type": "markdown",
      "metadata": {
        "id": "view-in-github",
        "colab_type": "text"
      },
      "source": [
        "<a href=\"https://colab.research.google.com/github/AnnaBo1/python_for_DA/blob/main/%22hw_6_1_%D0%9E%D1%81%D0%BD%D0%BE%D0%B2%D0%B8_%D1%81%D1%82%D0%B0%D1%82%D0%B8%D1%81%D1%82%D0%B8%D0%BA%D0%B8_ipynb%22.ipynb\" target=\"_parent\"><img src=\"https://colab.research.google.com/assets/colab-badge.svg\" alt=\"Open In Colab\"/></a>"
      ]
    },
    {
      "cell_type": "markdown",
      "source": [
        "В цьому домашньому завданні відпрацюємо з вами знання, отримані в модулі зі статистики.\n",
        "\n",
        "**Завдання 1.** Ми обговорили з Вами на лекції, що велика літера Сігма грецького алфавіту позначає в математиці суму. Знайдіть з використанням Python $\\Sigma x$, $\\Sigma x^2$, та $\\Sigma (x-1)^2$ для наступного набору даних:\n",
        "`1 3 4`\n",
        "Виведіть результат кожного обчислення на екран."
      ],
      "metadata": {
        "id": "SDhaTqxcWhnP"
      }
    },
    {
      "cell_type": "code",
      "source": [
        "import numpy as np"
      ],
      "metadata": {
        "id": "B1mgx_IBT0e8"
      },
      "execution_count": 1,
      "outputs": []
    },
    {
      "cell_type": "code",
      "source": [
        "data = [1, 3, 4]"
      ],
      "metadata": {
        "id": "b1iwyzs2N0lJ"
      },
      "execution_count": 4,
      "outputs": []
    },
    {
      "cell_type": "code",
      "source": [
        "sum_x = sum(data) #Σx сума всіх елементів\n",
        "sum_x2 = sum([x**2 for x in data]) #Σx2 сума квадратів елементів\n",
        "sum_x_minus_1_2 = sum([(x - 1)**2 for x in data]) #Σ(x−1)2  сума квадратів відхилень від 1"
      ],
      "metadata": {
        "id": "tjjpOhGiOeFz"
      },
      "execution_count": 5,
      "outputs": []
    },
    {
      "cell_type": "code",
      "source": [
        "sum_x, sum_x2, sum_x_minus_1_2"
      ],
      "metadata": {
        "colab": {
          "base_uri": "https://localhost:8080/"
        },
        "id": "c-2EL2azPKq-",
        "outputId": "5f47cd31-f343-4cac-de0a-eea2d00098bf"
      },
      "execution_count": 6,
      "outputs": [
        {
          "output_type": "execute_result",
          "data": {
            "text/plain": [
              "(8, 26, 13)"
            ]
          },
          "metadata": {},
          "execution_count": 6
        }
      ]
    },
    {
      "cell_type": "markdown",
      "source": [
        "**Завдання 2.** Ми зібрали дані про суму покупок в гривнях 20ма випадково обраними клієнтами в нашому магазині (всього клієнтів у нас більше) за минулий місяць. Вони представлені в змінній `sum_purchases`. Знайдіть **вибіркове середнє** для цих даних кожним з зазначених методів:   \n",
        "\n",
        "  2.1. без використання жодних бібліотек, користуючись тільки Python.  \n",
        "  2.2. використовуючи відповідний метод бібліотеки `numpy`.\n",
        "\n",
        "  Виведіть результат обчислень в кожному з випадків на екран та порівняйте результати. Вони співпадають?"
      ],
      "metadata": {
        "id": "fa78aW5lhiia"
      }
    },
    {
      "cell_type": "code",
      "execution_count": 10,
      "metadata": {
        "id": "_9kMt3rq6V5m"
      },
      "outputs": [],
      "source": [
        "sum_purchases = [ 316,  493,  367,  153,  224,  121,  322,  450,  196,  397,  281,\n",
        "  239,  484,  124,  223,  448,  432,  255, 4310, 3524]"
      ]
    },
    {
      "cell_type": "code",
      "source": [
        "#без використання жодних бібліотек, користуючись тільки Python:\n",
        "\n",
        "#1: Обчислюємо суму всіх покупок\n",
        "total_sum = sum(sum_purchases)\n",
        "#2: Обчислюємо кількість елементів\n",
        "count = len(sum_purchases)\n",
        "#3: Обчислюємо вибіркове середнє\n",
        "mean_manual = total_sum / count\n",
        "print(mean_manual)"
      ],
      "metadata": {
        "id": "wPmL919HT1c0",
        "colab": {
          "base_uri": "https://localhost:8080/"
        },
        "outputId": "e4703f1f-6768-403b-c09a-93527e560e21"
      },
      "execution_count": 11,
      "outputs": [
        {
          "output_type": "stream",
          "name": "stdout",
          "text": [
            "667.95\n"
          ]
        }
      ]
    },
    {
      "cell_type": "code",
      "source": [
        "#використовуючи відповідний метод бібліотеки numpy:\n",
        "\n",
        "import numpy as np\n",
        "\n",
        "sum_purchases = [ 316,  493,  367,  153,  224,  121,  322,  450,  196,  397,  281,\n",
        "  239,  484,  124,  223,  448,  432,  255, 4310, 3524]\n",
        "\n",
        "mean_numpy = np.mean(sum_purchases)\n",
        "print(mean_numpy)"
      ],
      "metadata": {
        "colab": {
          "base_uri": "https://localhost:8080/"
        },
        "id": "JKn06PaZRF6f",
        "outputId": "0b619785-7a24-42d9-97d1-bcd853ecf006"
      },
      "execution_count": 12,
      "outputs": [
        {
          "output_type": "stream",
          "name": "stdout",
          "text": [
            "667.95\n"
          ]
        }
      ]
    },
    {
      "cell_type": "markdown",
      "source": [
        "**Завдання 3.** Для того ж набору даних в змінній `sum_purchases` обчисліть **медіану** кожним з зазначених методів:  \n",
        "\n",
        "  3.1. без використання жодних бібліотек, користуючись тільки Python.  \n",
        "  3.2. використовуючи відповідний метод бібліотеки numpy.  \n",
        "\n",
        "Виведіть результат обчислень в кожному з випадків на екран. Порівняйте результати зі значенням вибіркового середнього. Напишіть коментар, для яких задач ви б використовували вибіркове середнє, а для яких - медіану?"
      ],
      "metadata": {
        "id": "FMdoxZd0kZdW"
      }
    },
    {
      "cell_type": "code",
      "source": [
        "sum_purchases = [ 316,  493,  367,  153,  224,  121,  322,  450,  196,  397,  281,\n",
        "  239,  484,  124,  223,  448,  432,  255, 4310, 3524]"
      ],
      "metadata": {
        "id": "x58BumvuT2nl"
      },
      "execution_count": 16,
      "outputs": []
    },
    {
      "cell_type": "code",
      "source": [
        "#без використання жодних бібліотек, користуючись тільки Python:\n",
        "\n",
        "#1: Сортуємо список\n",
        "sorted_ = sorted(sum_purchases)\n",
        "\n",
        "#2: Знаходимо кількість елементів\n",
        "n = len(sorted_)\n",
        "\n",
        "#3: Обчислюємо медіану\n",
        "if n % 2 == 1:  # Якщо непарна кількість елементів\n",
        "    median = sorted_[n // 2]\n",
        "else:  # Якщо парна кількість елементів\n",
        "    median = (sorted_[n // 2 - 1] + sorted_[n // 2]) / 2\n",
        "\n",
        "print( median)"
      ],
      "metadata": {
        "colab": {
          "base_uri": "https://localhost:8080/"
        },
        "id": "z31xK2vQalwO",
        "outputId": "7be686fe-f79e-4315-c514-ab9bd3bac1e4"
      },
      "execution_count": 17,
      "outputs": [
        {
          "output_type": "stream",
          "name": "stdout",
          "text": [
            "319.0\n"
          ]
        }
      ]
    },
    {
      "cell_type": "code",
      "source": [
        "#використовуючи відповідний метод бібліотеки numpy:\n",
        "\n",
        "# Використовуємо np.median для обчислення медіани\n",
        "median_ = np.median(sum_purchases)\n",
        "\n",
        "print(median_)"
      ],
      "metadata": {
        "colab": {
          "base_uri": "https://localhost:8080/"
        },
        "id": "03QYmav6bDyr",
        "outputId": "d0dc7627-834a-400f-a4b0-21a58f5814d7"
      },
      "execution_count": 18,
      "outputs": [
        {
          "output_type": "stream",
          "name": "stdout",
          "text": [
            "319.0\n"
          ]
        }
      ]
    },
    {
      "cell_type": "markdown",
      "source": [
        "    Вибіркове середнє\n",
        "варто використовувати для задач, де важлива сума або загальний тренд (наприклад, середні витрати за місяць).\n",
        "\n",
        "    Медіану\n",
        "слід використовувати, коли важливо уникати впливу викидів (наприклад, для оцінки типових витрат, якщо є кілька аномально великих покупок)."
      ],
      "metadata": {
        "id": "dE934GrXbwgS"
      }
    },
    {
      "cell_type": "markdown",
      "source": [
        "**Завдання 4**. Обчислість стандартне відхилення наведеної вибірки в змінній `sum_purchases` кожним з зазначених методів:  \n",
        "\n",
        "  4.1. без використання жодних бібліотек, користуючись тільки Python.  \n",
        "  4.2. використовуючи відповідний метод бібліотеки numpy.  \n",
        "\n",
        "Виведіть результат обчислень в кожному з випадків на екран."
      ],
      "metadata": {
        "id": "o1Z7az2yNDQV"
      }
    },
    {
      "cell_type": "code",
      "source": [
        "sum_purchases = [ 316,  493,  367,  153,  224,  121,  322,  450,  196,  397,  281,\n",
        "  239,  484,  124,  223,  448,  432,  255, 4310, 3524]"
      ],
      "metadata": {
        "id": "A4wEfE44gN21"
      },
      "execution_count": 22,
      "outputs": []
    },
    {
      "cell_type": "code",
      "source": [
        "#без використання жодних бібліотек, користуючись тільки Python:\n",
        "\n",
        "\n",
        "#1: Обчислюємо середнє значення\n",
        "mean = sum(sum_purchases) / len(sum_purchases)\n",
        "\n",
        "#2: Обчислюємо різницю між кожним значенням і середнім, підносимо до квадрату\n",
        "squared_diffs = [(x - mean) ** 2 for x in sum_purchases]\n",
        "\n",
        "#3: Обчислюємо середнє значення квадратів різниць\n",
        "variance = sum(squared_diffs) / len(sum_purchases)\n",
        "\n",
        "#4: Визначаємо стандартне відхилення (квадратний корінь із дисперсії)\n",
        "standart_dev = variance ** 0.5\n",
        "\n",
        "print(standart_dev)"
      ],
      "metadata": {
        "id": "X4ixtmL2T642",
        "colab": {
          "base_uri": "https://localhost:8080/"
        },
        "outputId": "985756c7-8037-4b8d-8d5d-aaee2881437f"
      },
      "execution_count": 23,
      "outputs": [
        {
          "output_type": "stream",
          "name": "stdout",
          "text": [
            "1096.0692713054227\n"
          ]
        }
      ]
    },
    {
      "cell_type": "code",
      "source": [
        "#використовуючи відповідний метод бібліотеки numpy:\n",
        "\n",
        "#Використовуємо np.std для обчислення стандартного відхилення\n",
        "std_dev = np.std(sum_purchases)\n",
        "\n",
        "print(std_dev)"
      ],
      "metadata": {
        "colab": {
          "base_uri": "https://localhost:8080/"
        },
        "id": "knUiXPxCgUGk",
        "outputId": "8b38ff43-4d86-410c-fcc6-a20d70c4694c"
      },
      "execution_count": 24,
      "outputs": [
        {
          "output_type": "stream",
          "name": "stdout",
          "text": [
            "1096.0692713054227\n"
          ]
        }
      ]
    },
    {
      "cell_type": "markdown",
      "source": [
        "**Завдання 5**. Ми провели дослідження віку студентів-першокурсників. Виявилось, що\n",
        "- 10 студентів мають вік 16 років\n",
        "- 25 студентів - 17 років\n",
        "- 20 студентів - 18 років\n",
        "- 2 студенти - 20 років\n",
        "\n",
        "Обчислість середнє значення для цієї вибірки будь-яким способом - на чистому Python або з numpy - та виведіть результат на екран."
      ],
      "metadata": {
        "id": "M1ntKTjXLVlH"
      }
    },
    {
      "cell_type": "code",
      "source": [
        "#Дані\n",
        "ages = [16, 17, 18, 20]\n",
        "counts = [10, 25, 20, 2]\n",
        "\n",
        "#1: Порахуємо загальну кількість студентів\n",
        "total_students = counts[0] + counts[1] + counts[2] + counts[3]\n",
        "\n",
        "#2: Порахуємо загальну суму віку студентів\n",
        "#Множимо вік на кількість студентів відповідного віку і додаємо\n",
        "total_age = (ages[0] * counts[0]) + (ages[1] * counts[1]) + (ages[2] * counts[2]) + (ages[3] * counts[3])\n",
        "\n",
        "#3: Обчислимо середнє значення\n",
        "mean_age = total_age / total_students\n",
        "\n",
        "# Виводимо результат\n",
        "print(mean_age)"
      ],
      "metadata": {
        "id": "RdIU4M-7T8R4",
        "colab": {
          "base_uri": "https://localhost:8080/"
        },
        "outputId": "09cff821-5104-4523-ff64-c620c90cd6aa"
      },
      "execution_count": 25,
      "outputs": [
        {
          "output_type": "stream",
          "name": "stdout",
          "text": [
            "17.280701754385966\n"
          ]
        }
      ]
    },
    {
      "cell_type": "markdown",
      "source": [
        "**Завдання 6**. Крім даних про суму покупок, ми зібрали ще дані про кількість відвідувань кожного з кожного покупця, які знаходяться в змінній `visits`. Обчисліть коефіцієнт кореляції Пірсона для суми покупок і кількості відвідувань кожним з зазначених методів:  \n",
        "\n",
        "  6.1. без використання жодних бібліотек, користуючись тільки Python.  \n",
        "  6.2. використовуючи відповідний метод бібліотеки numpy.  \n",
        "  \n",
        "Виведіть результат на екран. Проаналізуйте результат.\n",
        "\n",
        "Виведіть додатково графік розсіювання викликавши код нижче і зробіть заключення, чи варто щось змінити при підрахунку кореляції, аби коефіцієнт Пірсона показував коректну оцінку лінійної залежності?"
      ],
      "metadata": {
        "id": "Xx8MFkkVM53z"
      }
    },
    {
      "cell_type": "code",
      "source": [
        "visits = [ 6,  2, 10,  3,  9,  9,  2,  3,  6,  6, 10,  2,  5, 10,  3,  5,  4,\n",
        "        7,  4,  2]\n",
        "sum_purchases = [ 316,  493,  367,  153,  224,  121,  322,  450,  196,  397,  281,\n",
        "  239,  484,  124,  223,  448,  432,  255, 4310, 3524]"
      ],
      "metadata": {
        "id": "4OIGBT7UOWhO"
      },
      "execution_count": 27,
      "outputs": []
    },
    {
      "cell_type": "markdown",
      "source": [
        "    Формула для коефіцієнта кореляції Пірсона\n",
        "\n",
        "\n",
        "![Monosnap Снимок 2024-10-17 01.55.58.png](data:image/png;base64,iVBORw0KGgoAAAANSUhEUgAAAi4AAAEeCAYAAACt2J7vAAAAAXNSR0IArs4c6QAAAARnQU1BAACxjwv8YQUAAAAJcEhZcwAADsMAAA7DAcdvqGQAAEutSURBVHhe7Z0JuFVTG8dXMhUhkalCRZQhKUpIhSRKKCRkSIaMXyRRmRKSISIJlSlDlAqpDKHMVISKioRUaNZwvvtb7XXb7faZ7j3n3rvv/f+eZz/nnHX22Xvttdde67/e913rlIrlYIQQQgghIsAW3qsQQgghRJFHwkUIIYQQkUHCRQghhBCRQcJFCCGEEJFBwkUIIYQQkUHCRQghhBCRQcJFCCGEEJFBwkUIIYQQkUHCRQghhBCRQcJFCCGEEJFBwkUIIYQQkUHCRQghhBCRQcJFCCGEEJFBwkUIIYQQkUHCRQghhBCRQcJFCCGEEJFBwkUIIYQQkUHCRQghhBCRQcJFCCGEEJFBwkUIIYQQkUHCRQghhBCRQcJFCCGEEJFBwkUIIYQQkUHCRQghhMgCy5YtM7fccouZMmWKl1L8mD17trnxxhvNX3/95aVkn1KxHLz3QgghRJFn6dKl5u233zZjx441M2bMMBUqVDA1a9Y05557rjn44INNqVKlzKuvvmr22WcfU7duXe9XBcuKFStMjx49zJFHHmnOPPNMm6cgK1euNNOmTTOrV6/2UjZSsWJFU6NGDft+zpw55pdffrHv/fA9+6XDv//+a6ZPn27WrVvnpWyE8qpcubL3aQOLFi0y3333nfdpA1tuuaUt5+23395+/vDDD83gwYPNPffck3Z+8oKEixBCiEhABz9q1CjTp08fs/XWW5vzzz/fnHzyyaZcuXLmt99+M0OHDjW77rqrqV27trn22mttZ1q/fn3v1wUH3erjjz9ufv31VytettlmG++bTeH7Xr16md9//90KmCVLltj0evXqmUsvvdScddZZ9vPTTz9t+vbtmyteDjnkELPHHnuYnj17moMOOsimpco333xjBcbixYvN1KlTrVVov/32s4LlhhtuMA0bNvT23MCECRPsedgXyBtirHv37ma77bazae56sb7ccccdpkyZMjY9ayBchBBCiKLMihUrYr17947liJRYTkcaW7p0qffNRtasWRMbMmRILKdTt/tNnjzZ+6ZgyREhsWbNmtnXVFi/fn2sf//+Ns8tW7aMLViwwPtmA3w/aNCgWKtWrWJff/21/ZxfKL+OHTvac+YIltiqVau8bzZn5MiRSc89f/58m/fRo0d7KdlDMS5CCCGKNLg1nnjiCXP33XebDh062JgK56bwgwujTZs2pm3btl5KwbN27VozYsQIaxXBkpEKuJGaNm1qXT/vvvuu+fLLL71vNvDRRx/ZjTI49NBDQ91O6UL5OWvU559/bq0+Yfzwww/mhRdesFaaROfGAnTCCSeYl156yfz9999eanaQcBFCCFGkwU1Bp7377rubCy64wJQtW9b7ZnNwU5x99tmhwqYg+Pnnn238TfPmzeO6iMIgvsS5ad57773cuBfiS5555hkb5Jvp+JEGDRpYsYRwwYUU5M8//7RuuSuvvDI33iYeCJqjjz7aHuvrr7/2UrODhIsQQogiC9YWgnCJ7zjuuOOSdqBQvXp1G4tRGHz11VdWWJGHdEBwNWnSxL7H6vLTTz9ZawcxI8SeVKtWzX6XSfbee+/c4GUCbP1BwgQXP/DAA6Zdu3abxb3EgzgZ7s+nn35q416yhYSLEEKIIguj/o8//ti+33fffXMDQhPBPuwbxsKFC20Q70UXXWT+97//mddee8120n7mzZtnp/cSwMpGHgg8BYJZv/32W5s+d+5c89lnn+V2+P/9958VLpy7fPnyNi0djjjiCNO4cWMrWLCypGrtyCsILM4HuKK4bqA8br/9dlOnTh1z/PHHp+yaIkiavDJriZlf2ULCRQghRJHljz/+MDNnzrTvcaek0olivXjwwQc3mVG0fv16K1KwIDDz6N577zXXX3+9nU7dvn37XGECb775pk1jxg7nPP3008348ePtdwgaBA/pxx57rJ3xw7RmoMOfNWuW2WuvvfI0s2a33XazcSJAXonnwf2STZghhNWFWU2TJ0+2MToDBw60eWndunXKogWY6VWpUiU7fTub67pIuAghhCiyrFq1KjdwtHTp0vY1LyBGunTpYrp162bjT3bZZRcrMAj0Zfr0NddcY6dUQ6dOncyYMWOstQNw15AGCJaHH37YWiLGjRtnBgwYYHbaaSf7HVYYhNa2226bp7y6OBFiebDsZNPd4uBczl2E1WXIkCFm/vz59noJdk4XRCH3i/VisoWEixBCiGINHSnBvVhQmO3jh86ZGT0ffPCBnQ3kxALCg9gOgnwRKLiBHAgcOvtgHAvxOGzx3FTJwHJDYC/HQLgQ2xO2OF0mIYDYWXWYPYRlCTGXKAA6EU64IDizhYSLEEKIIgur4rJKK9CZpwodJ24PwHVBLEq8GBlnHXn//ffNP//8Y98DlhhiQD755BOzYMECm4aAmThxomnWrFm+LEBByCuLuOFuwY0FLkg32xx44IG2jIlPYWG5/MxeyvriczlIuAghhCiyEGvhZtQwswhrRCo89NBDdmouEHSaSPQ4cYQlheBdBy4grDEcB1EDCBhEBp19EKw1xNKkC7/hLwoIaMVFg6XHBekSd5JtWMGXGBeuqUqVKl5q0UXCRQghRJFlhx12sPEkwMJsfmERD1wuy5cvz7UcJLOMOMGBe4T4FD9urRMEBMG3CJgDDjgg1JVCjMoWW6TXrXJuRAsWIWJwOK4/SJcl97O9oJv7LyJcacwMyg8uUDmbSLgIIYQo0hBMy38S4TphjZBkYEHAVUTgKWCx4T3Tl8M6VoJqmeJMzArWFz9Vq1a11g8EBOf+/vvvTaNGjbxvNwWBxMYidKlCQCyxLP64EgSQfyXdbC7ohiXKLT6HcElnFlEYCEvKOigAM4mEixBCiCINAZ+dO3e2C5wxzRkXSjywijz11FN2CrMTAgiAli1bWkHDrJ8gWBwIwj3llFM2s6QQvMrCdwScsnrtjjvuaKf8hrHzzjtbawmiKRWXVqJ/VXaLw6UapIv76tFHHzUtWrTIXfcmFfhjR4QWrrJU/6IgEQgX8h4UgJlEwkUIIUSRh7gPglcJnmXxOAJkXfCtA9FCbAtBuG6KLxAwSuwIi8INGjRok3gXRMuzzz5rV6cl4DYMFmLD6kKgLOuexHM9IXqw2jCdOMyyg1uIacJYfvr162fOPfdcu3/QOsF+BAE7IYHVhb89wGUUvGYHcTzDhw83kyZNMsOGDbNlkQjyh6WJvxcg+BihwXWRP86fF8gz4jCvC/ClSqmcDGZ/orgQQgiRAQiORcCwsixrseBCwtJBJ/zFF1+Yyy67zFpOwmJNWBSNdVdY0wXLCCKAjvrqq682p556atz/FqKbxJpBnAuvbt2WMFiVF+GA1QcLkR/iWFq1arVZoDDrxdx22212RhHE2w8eeeQRc/7553ufNoIQQQxxXoQWi8hRLmGwEjDijyngQZhJRdniIkuXRYsWmY4dO9q/LuCa8ut2ioeEixBCiMiBRYF4E2chwGJA0Kzr/BOBZQBRgLgh+DeVgFp+s2bNmqR/OcBKvAgLpjS75fQLEgQM7jQsTPGES7YgFufiiy+2a+YcfvjhXmrmkatICCFE5MAtg2WB+BMEAgvLpSJagP3o1LGcpDoLiN+k8j9JLpgXq062F48LA6sSLp+C/ndsxCMxO/zfUthU8Uwi4SKEEEJkCNxN55xzjl37xf3HUkGBeCAeplatWimLuEyBC++dd94xbdq02SzAOdNIuAghhBAZBOsPMSosoV+QVhemNfNnkQXtokIwjRw50rqH+OPJbCPhIoQQQmQQXDUEqSJaRo0aZTv2goBg2CuuuCLrFo8grEXDGjcERufljxnTRcG5QghRAsCUP3r0aDsTh2m/TMFlii2dDv+STFpB/M9MSYIA4D59+thZTvXr1/dSixdYeJjBxAJ61K2CQMJFCCGKOUx/7du3r506zDonrCTLom4si8+CZUx/JS4im1NYhcgUEi5CCFHMYW0RZtDw/zfdunWza32wbgir0T755JOma9eu1rVx1113JVyqnSnBDzzwQJ7/+I8Rea9eveKuPCtEKki4CCFEMYZ1PVhS/sILL7QzTS655BIbh4B5H6vLfffdZx577DG7qBv/CZQMjseWFzgvf+Inq47IDxIuQghRjGF1WP6LhmXYp0+fbtq2bWuXmud/d+ItXS9EUUbCRQghSghMz2VF1RdffNHGuxR1WNVWRB9WN84kEi5CCFECID6lZ8+e9k/1hgwZYvbff3/vm/SQq0gUNhIuQghRAmApeP5HZscdd7R/1JcXa4aCc0VRQMJFCCFKAPwBnuJbRHFAK+cKIUQJ4McffzS///67qVevnkSLiDQSLkIIUQJgZtHBBx9s9ttvPy9FiGgiV5EQQpQACKhdv3692W677bwUIaKJhIsQQgghIoNcRUIIIYSIDBIuQgghhIgMEi5CCCGEiAwSLkIIIYSIDArOFUIIIUJgFtbixYvNrFmzzJo1a7zUjfD3BQcddJD9K4NMs3z5cjN79mzzzz//eCkbYR0ezltS/8tJwkUIIYTwQbc4depUc9ddd5m33nrLS90c1sV55plnMro2Dn/N0L9/fzNo0CCzbNkyL3VznnzySbsScklEwkUIIYTwoEt85ZVXzDXXXGNOOOEEc+aZZ5qtt97aDB8+3KZfccUVpkWLFnbf8uXLm5o1a5ottshM1MUPP/xgLr/8cmvpad++valevbqZMmWKeeyxx8yhhx5qOnfubMqUKWO22morc8ghh5iyZct6vyxZSLgIIYQQHh9++KHp1KmTueSSS8xVV12V6wb6+++/zZVXXmkX8OvXr5/ZfvvtbbqfBQsWmBEjRtg/o3QgbJo1a2Y+++wze2xH5cqVTcuWLa0ogj///NOKJXjooYdMxYoV7Xu66EcffdQMHjzYDBs2zLqIHPzT91dffeV92gDHrFatmn3/xx9/mFdffdWsXr3afq5SpYr9HuETZRScK4QQQuSwcOFC+8/ZtWvXNhdeeOEmsSvbbLON2XXXXe0+fmHih+/5E0tETc+ePc2ee+5pjj32WPvdgQceaMXJokWLrJBp3rx5rmhZt26dFSVffPGF6dKlS65ogVKlStnPxLsEXUf87xRC5OOPPzbjx4+37/fee2/vW2MqVKhg/4l72rRp1np00kknRV60gISLEEIIkcP06dPN2LFjTdOmTc1OO+3kpW4Aq8X8+fO9T+EgdPjdiSeeaOrWrWuDep04+eabb6zFo1evXtYK4//rBQTNxIkTzXHHHWdq1KjhpW7kl19+8d5tCsfAusLvZs6caa1CfrFFYDH/UYUYw1JTXP7uQcJFCCGEyOHTTz81u+++u6lTp46XspFff/3VCpEDDjgg1E3kBysH4mfChAn2d19//bWZMWOG6dixY+gMpLlz55pJkybZOJbgsbGyEPty5JFHmr322stL3ZRGjRpZUTJ58mTrWoIVK1aYF154wZxzzjnFLhZGwkUIIUSJB3cNVhVcLbhYgnz55Zc2ZgQ3j7OixIPpyg0bNjTff/+9nSE0atQo065du1DRAqtWrbKv++67r331g7WFOBasKriewqhataqpX7++tdpgZVm7dq15/vnnrWvI73YqLki4CCGEKPEgNrBaIEqCAuO3334zL730khUfWD5SgTiZxo0bWxcOM5ESWT04L5YWZgz5QYC8/PLLdr2Ys88+2+YxDI7doEEDOwMJkcNUamJqwtxOxQEJFyGEECKHJk2aWJGCW8exZMkS06dPH2vtuOmmmzYTF/EggJdpzRwLV1AiWAeG4FncRYgVcFaTcePG2fO7mULxQLhgsenatasNEj7qqKO8b4ofmg4thBBC5EB3SFzKrbfeaq0lrM/yySefWGsH1pZURQvxJQTEEivTu3dvG++C6IlnMQFcQuyDtYfgXURMrVq17JRsYmaSwQq7rAHD2i89evSI65YqDki4CCGEED6wlhAUi3BhWf10FphbuXKlefrpp61YQURgLUEMkeafqhwGFpp///3XvuI6ShZL4weXVIcOHUz37t3NySef7KUWT+QqEkIIIXwgGHbeeWc7tTkd0YJ7h78AYHYQ8SX+IN3333/f2ys+nItzcu50RAswewlLD1OuizsSLkIIIUQ+wdJCUCzxKogVhwvSffvtt+06K9kAxwkr82LhScWtFHXkKhJCCCHyyJw5c+wquZ9//rmNU8FFxJL9WD5YWI64Ff6oEdcTK90ef/zx5vrrr7cr8WaCgQMHmjfeeMOujot7CfHCLCambRdXJFyEEEIIERnkKhJCCCFEZJBwEUIIIURkkHARQgghRGSQcBFCCCFEZJBwEUIIIURkkHARQgghRGSQcBFCCCFEZJBwEUIIIURkkHARQgghRGSQcBFCCCFEZJBwEUIIIURkkHARQgghRGSQcBFCCCFEZJBwEUIIIURkkHARQgghRGSQcBFCCCFEZJBwEUIIIURkkHARQgghRGSQcBFCCCFEZJBwEUIIIURkkHARQgghRGSQcBFCCCFEZJBwEUIIIURkkHARQgghRGSQcBFCCCFEZJBwEUIIIURkkHARQgghRGSQcBFCCCFEZJBwEUIIIURkkHARQgghRGSQcBFCCCFEZJBwEUIIIURkkHARQgghRGSQcBFCCCFEZJBwEUIIIURkkHARQgghRGSQcBFCCCFEZJBwEUIIIURkkHARQgghRGSQcBFCCCFEZMiIcJkyZYrZYYcdNtmuvfZas3LlSm+PDfB58ODBpkmTJnYfXvns32/27NmmadOm5pFHHjHr1q3zUoUQQgghMiRcEBh169Y1w4cPN6+//ro55ZRTvG82smLFCnPLLbeYp556ylx00UVmzJgxpn379mbAgAHmzjvvNKtXr/b2FEIIIYQIJyPCZf78+aZChQqmQYMGdqtYsaL3zUZGjx5tLTMIFwTLMcccYwVMv379zFtvvWVmzJhh96tWrZqZMGGC6dy5syldurRNE0IIIYSAfAuXWCxm3TtVqlQx2267rZe6KcuWLTPjx483J554oqlevbqXuoFatWqZSpUqmR9//NFLEUIIIYQIJ9/CZenSpdZaggCJJ1z+++8/s3DhQnP//feb8uXLbxILU7VqVfPuu++an3/+2dtbCCGEECKcfAuXmTNnmm+//dbUqVPHS4lPly5dbGxL2Hbaaad5ewkhhBBChJMv4UJQLvEpRxxxhNl///291M3ZcsstTbly5axb6aijjrLxLcGtRo0a3t5CCCGEEOHkS7jgIiLolllEZcuW9VI3B9GCuBk3bpyZNWuWlyqEEEIIkR6le+XgvU8ZLC1Tp041AwcOtPEr9evXNwsWLDDz5s0zc+fONZMmTTLLly+3s4uIY0HU7LPPPmby5MnmiSeeMGvXrrXTn9mfGUTPPfecnU5dpkwZG+jbpk0bGztz+OGHmy22yLc3SwghhBDFhFIx/DdpwoJx3bp1s1Obk4GVBWEDf/31lxk6dKgVKsTGVK5c2dSrV8+cd955plGjRtalhHC59NJLTevWrc3ll1+uKdFCCCGEyCVfwoV4lbZt23qpm7J48WJz8cUXm65du+YKFyGEEEKI/CA/jBBCCCEig4SLEEIIISJDnlxFQgghhBCFgSwuQgghhIgMEi5CCCGEiAwSLkIIIYSIDBIuQgghhIgMEi5CCCGEiAwSLkIIIYSIDBIuQgghhIgMEi5CCCGEiAwSLkIIIYSIDBIuQgghhIgMEi5CCCGEiAwSLkIIIYSIDBIuQgghhIgMEi5CCCGEiAwSLkIIIYSIDBIuQgghhIgMEi5CCCGEiAwSLkIIIYSIDBIuQgghhIgMEi5CCCGEiAwSLkIIIYSIDBIuQgghhIgMEi5CCCGEiAwSLkWU3377zVx33XVm9uzZXkrx49VXXzVPPPGEWbt2rZcihBBCJKZULAfvfbGHS/3ll1/MiBEjzPvvv29+//13U6lSJXPssceaNm3amN13392sWLHCPP744+aiiy4yO+20k/fLguXPP/80Xbt2NRdffLE5+uijvdRN+ffff8306dPNunXrvJSN7LPPPqZy5cr2emfMmGEWLVrkfbOB0qVLm4MOOsjssMMOXkpqzJkzx5ZfkC233NIcfPDBZvvtt/dSNvDDDz/Ya/Gz4447mlq1atk8IFj69+9v06+66ip7HCGEyA+F0TaGken2UvhAuJQEFi5cGOvRo0dsjz32iOWIlNiYMWNif/zxh00fN25c7LzzzouNHTs21rdv39hpp50Wy6nQ3i8LllWrVsVuvvnm2IABA2Lr16/3Ujdn2rRpsTPPPDPWrFkze03lypWzr6eeemrsvffes/usXr061rt371iVKlXs92xNmjSJ5QiiWM4DZfdJlRyRERs6dGisVatWsYYNG25yvE6dOtmy9MO5+/TpE6tZs6bdjzy0aNEi9uKLL3p7bGDJkiWxDh06xF5++WUvRQgh8k5Bt41hZKu9FBsoEcJl3rx5tiJTKUaMGBHLUeLeNxtZvHhxLGfUbytNYQqXCRMmxFq2bBmbP3++l5IYhM4NN9xg833ZZZfFli9f7n2zgTVr1sRuvfXW2IUXXhibO3eul5o/aBhq165tzzly5EgvdXNc3rp3724FYjy45ubNm2csfyIxiEUa6K5du8ZWrFjhpWaHgjxXMhiY1K9fPzZ58mQvJVrQjtH59u/f33aMIjHZahvTvQ+Zbi9FLFbsY1z++usvc9NNN5m3337b9OjRw+SIErPFFptfdvny5a27AhNeYbF06VIzfPhwc8IJJ5icEYKXmphtttnGnHzyydbsmCMAzI8//uh9s8E19tprr1n31yOPPGJyVLz3Tf7A3FqvXj37/sMPPzQ5owX73g/nHjVqlFm/fr25+eabzS677OJ9szl16tSx5T9mzBj7O5FdcNGFmdGzQUGeKxk5HYP3LprkdLTmv//+8z6JZGSrbUz3PmS6vRQ55BRYsQVXCy4XlG67du3s6C8R7H/PPfcUmsWFkWDdunWtQk+HHHEWa926tb1ORgFcBxtm0c6dO2dFvQ8ZMsSer3HjxrE5c+Z4qRuZNGmSdQEFTaLxyGk8rKVpwYIFXooQQuSPwmgbw8h0e1nSKdYWl5xKYN566y37vmnTpkmDbUuVKmUaNmzofSpYcu6F+eCDD8yBBx6YtmVk5513Nk2aNLHv33nnHXvdH330kXnmmWfMrbfemhX1zgiiRo0a5vPPPzfffPONl7oBgsyeffZZc/vtt5uKFSt6qYk5/PDDbUAdAW1CCJEJCqNtDCPT7WVJp1gLF6LG3333XfueSpMKVBzcFkFyVLr57rvvzD333GPatWtn7r77bvPpp5/adAcmQDrexYsX525z587NjVwnwpzPpE+dOtVWWAduIjruatWqme22285LTQ0EF8KMa+R6n376afPoo49aF1m2HgTMn07kTZw40axcudK+nzlzprnjjjvsVG6i91Nlr732MlWrVjVffPGFlyKEEPmjMNrGMDLdXpZ0ClS4DBkyxCpPpprxyudsgtAAppPtuuuu9n0y9ttvP/PUU09Zpe5YtmyZVcN9+/Y1LVq0sD5RXh966CFz5513Wj8pUBnvv/9+07JlS1tRmVbXqVOn3ClxX3/9tZ16zXcXXnihee+992w6EIuD6KHy5mXqG51+48aN7fvRo0ebXr16pSzW8kKZMmVyRzKMYMg7U/l69+5tLrvssrTPzbQ/4np++umnIhOLgMBs3bq1eemll7yUDTEbDzzwgK1T+KSxlAGv06ZNM507d7bfUceZyt6vXz+zZMkSu49jypQp9nv/tueee5oLLrjAClo/1K0nn3zS+urZj2PT0AWPSR7JK/eAfFEH2Z97NHjw4NyGEnh/7bXXWhHuhzpIfsk3v8UKxtIAqfwWaIRpnP3lFW//X3/91XTr1i23rNzGvv7zheHK7/LLL8999vyQxnfs488LvyN/5BOIN+D83E/uq4Pf+PcDyvWcc86xW3DKqp8vv/zS3HjjjbbsOD+vxNYx0nfkNf9h9TF4TX4oc/bnd5DuvYt3bFcW/mMDvyXPd911V2hcE8tPtGrVyu7DsR38LngsYGBH/U2lTiQi021j2H1IRqbby5JOgQkXRArBr87KwCufsyleEBxAMC7KOy9gRcG6gokPkYIYQdQccsgh5r777rNWFwQNDR+uKNYleeWVV+yDcthhh1mFX7t2bXusU0891fTp08d07NjRTJo0yYoaB1aZWbNmbTa3P1UIRDvuuOPsewLH/JagbHHooYeaunXr2nvJKOLee++1HSyNXbpstdVWtlwXLlxYZAMQucfPP/+8eeyxx8xtt91m7yf1CtHCYnqnnHKK7XTo/Ak0pnF/7rnnzBVXXLFZZ4dlDUHCfmy8p3FmJEin7qA+YUZu37693e9///ufefHFF23nEGzMuecvv/yyeeONN8yVV15pBQyjTUziCBB/5xyEY1G/qZddunSx5zr77LOtYGeRwEwG2CKQWKcIkcZ1cK7XX3/dll86BAMuHVha+S4ZCLSBAweaoUOH2lF4vPLh3l1zzTX2PYOVRCP18ePH2+BNOiSui/WgeKWzDIqU/Oa/MKCMqNNcUzwYkLGAZhDaSmcBTwZlRb2j3c0vhdE2hpHJ9rKkU2DCBStFGPHSiwqTJ0+24oPKFZzpw2fS6Vj8fkusO0cccYTtBL766isv1djG/+eff7YdXtmyZb3UDfAdQiuvM38YgTNzinPzYNDwOWtAtmDBPh5EYPSMu4eRSF5E4tZbb21ddLjMEnWwhQVlySwEBAud7RlnnJF7nQhORu2MDGlsmzVrZo455hgrHhA6jLYZnfnvB/cfYct+bDRgdI7//PPPJoKkZs2a9ry4J9kPSx1mZUZtwcWt6BSWL19uhRV5oLFmhgKdKGm4IhOByCG/zLzjXJznkksusY1s0MKTH3gGyCt5c+dq0KBBWqb7I4880tSvX99aTfzlynue2aOOOspaU5LB80sHQswD5Rx8ZuhAsVBQJ9kvWR6pA9QFfx1o27attTb4LYmZyn9BQ71DOJ933nleyqZQjxEK/nYPGAByreeff76XEh/KAPGNBZO2Mr8URtsYRibby5JOgQkXKkwY8dIzwb777mtfaXzCpqCFQYWm4+CVjVECgoIRcrCC8RlrDo2S3+2Dq+ekk06yFZV0d25GIYzenAUmU3B9dKY0dm5k6ALRsgkNlHsQsS7QyeV19VvKbNttt/U+FS2oB4ykEQBsftECCFTK4vTTT9/s+vfff39bF1ipGVESDwQbDSpuRH+MFQ23/zPnxer37bffbmZap47ScfjzwP4Ikr333tuO5OOBKZtz8ergOJwLC0kmhUsmwDKJO4z74q/nvKfjxyURtuxBEMrn+OOPN927d7fWUDpM16khAhGq/O0G36USg4AAdzCyx82C1cC5yB2Zyn9BQvuFlZn6H89KQJuH5ezNN9/cxMKEC3j+/Pm57pJEULexYrNyeH6XpyistjGMTLaXJZ0CezLi+fCy6duj0+BBouHBBZEKNNCoYV4ZIYWZPP04ccTo1z9S5roY8TKy5KEFRiGsWRI2uymvpnhEEeZurpUGhTVgODfnTdRRZQLy7M6B66xcuXL2fTZxvng6gUxsqfjPaYTZD9ceZRzsUKhb1atXNxUqVPBSNkLHiBihofQLDUaTLg6CjdEX9YRRvX+mAyN94iZwZRD3QKdw1llned9uCtY66nsQgr3pKOfNm+elhEM5IMIefPBB6+JAcHHdmYY4MuopneDYsWPtOemsg+60ZGCx4toYXDh4T3m65zIVuEfcV9x0PXv2zO106Tw/++wza3FBFKaKi4HgOeceY33BehXspDKV/2BdchsddhikB/fl9xwnHrQz1EGELbFYiTpc4viYhODaBoQgohzr4W677WbT4vH333/beoEFzrli80phto1hFEZ7WVwpMOFC0GIY8dIzARWW0SZ8/PHHKYkDYk1ocDDl89AkC5R1x+SB9u9LR4EPHYsSjR8NIdOdGXmFkZeAXDq1AQMG2Pd0NDQm/kA0GuBULU15gREpopBrpeHLD5RjKkG5NOj41wluy8RGDEcySw/WCjpbBAQNayYIxrgQm4IgwhXkhC4dOaNOzPKUM6KX+BOsPmHw+0SjdO5TPBCEjPIRKjwDiG6sEDfccIO3R+bg+cJ1RT0lzo1Ad1xGBE6mA5YoRIETGggv3FrNmzdPe2Yev8Uywr1mo05Q14g3okN3VphU4Ny4wbivxDvhSg6LcclU/oN1yW0dOnTw9tgU0oP78vtE4gzLECITq0Uy8YGAZnDBUhQ81wg5XEwI4UTtHGX8wgsv2EEgLragOz0dCrttDCOT7WVJp8CECyqdQENnYeGVz6RnCyo+QY2MQlH8/qDHeGAVoYLTcLHxHvDLh+FGsay/4jcTQ6NGjaxpEP8qx0Vhu+MF4YFOZVTs4CHHJ4/5FUuAGwFhjsRdwLH81p5sQF5p1PHFYzHIDwTNYeWijBKN5viOjo9A3kxsjDaTjeq4PkbdxLIgGlzQtwPfOd+5ae9+uE8IJKwufktKMMaFDoyRMEHKzu3IK8flT0HpAAnqRlBwrDAQOmF5wGpIHuKN4l1dYmYXnROzlohFIF9hFpxMQBkyswSxRP6wSNHBpAsjcwJcGclyjVi/iC9Lh6B1hfuNAKQMuCdsdNypiheeQQYolB/uAAJ6x40bZz755BNvj41kIv/BuuS2eM8k6cF9+X08oYCoZbYk5UFcTjJoyxgwUn+d8ONZo41MBINLYsSwLDLozCtFoW0MI5PtZUmnwIQLIFJoHPj3Tl6zKVocBMHxIDCaevjhhzcb9fjBOoLZmsrtYJSA+KBRCf6WxhcFzcPsotb9ELzL+XlIGHEhZHh4wsDNgLsh2CmGwYPJzCUaQiwGwQbngAMOsA1nqoFoXBczTwgiDE59TAQPItfPg5jfhZyYicHIjAe6KMa6ILTp0IlVwZ3grwt0PsSoIDCCgcV0Sow82Sdd0zAjT8rV74Li+NzTMGgUqb/+WRPsT74QV8SrhMHIE+GASEHIObgmf+xWpqA+MguLczKCT2QJSgaje0avlAnWCmZuJLMI+OHasf7wVxs8S25g5cDlQ4eNJQqrQSK4LupxOuQ3/9mGes4ECvJ07rnnJhxU+KENIpAZKzMDN9q+eMIIEDi4ooiBwQKXVxdRptvGTJLJ9rKkU6DCpTDgQWM6KpUYMySuKURIsMKShm8Vs7y/UmEh4fdUcgL3XKfAKyZWBBjrNITNBsICw0gaeIB4aOLBORlJ01mFubQ4H24K1qZBZNDg0xEFH3D2Y8TjzL50mogRfuvv0PwQDMdaH+zL7JdELjXKDeG5YMECa24FRlOYudnyCoGrHBOXTNByVVTA/M3omXLiHjjxwn1l7Q7qz6WXXmobagQEDTGzgRjNItL994rfYoVjPzYnbilDGnmgQ6N+YeXhezZcK8GgXAeBjAQeUh8RHOyPyZ2p0Fhr4gWXIhTpMBETWHb4LZYXfhuvo2I06/LuNq6H66JxZqpzvHqEmMN90qZNm9DnJh3cKBrhgbuNkX6qnZ5zJ7BuE7EQuHaDcP2ss4HlltE7M2PigasTFxECl7KnTJilxbNKfEdYoGl+8l8QcC+JV+Ea0pn1hVWUto+6h6BmAJcIhARWV9raRAInjGy2jfklU+0lzxJtz4knnljglqKiSLEXLkDjQGVmrQhGWARGYaLGLMzURTobOg06n6CZlspPYBeNCutiEOCFP55XPjONMl6EPTCDCL8q+ycaSeHTZrRHQ4EvNAimTxp5rDtYjrDMXH311bbR9cN+zucNjHiwGNFw8j4M9mdGDKNyZpAkWkcFi0OlSpVsXt0aPJjZEV233HJLnhePoyPEZUAHWpThXjPThFEdr3TU1JEzzzzT1i+gPjFqRMAQ6M36KMHGmPuMG4H92BjNUnYExrqGlY6Ue83Cha6+MhMFy1gYdCzsgwhGdHBMrCaIUfKXqENERCB4sM5wDuo1IolAyzD43uXdbVwP18W6R9TLsHrE88e6KcR3cE2Z6KR5xhCPuCKSuSMciBaEJdYEnv1EzzDxa7QfWF95jWd5QXAjUhGblD1lgjCiPOl04o2y85L/goT6HC82LxHOwoy1kTYjEVjdEC2u7qdDNtvG/JKt9rKkUypHERacrawIwOUSC0ADSyNKw0llxkWRKLDRgajgdzyQqQbQ8RtiF5JZEhjpEgzJujHxzPrZBNEyaNAgaxb3T4stCOhE8HHzymhNpAfiBIsiljNGdIUJeeFeImAKuh4JIYo/JcLi4gehguWDef1YQohNwYSeimgBxAodQzpR/+ybivuDkRdBaQiYwtCT+JmJpyjozgZTLR0dpmWJFiGEEIkoccKlKEOnTUwEcQr4RAsSTOf4fPNiEs4vTDPGvMtCYEIIIUQiJFyKGETVE6A6cuTIArO6cB6CCQnSzO9KlemCtWXYsGE2doA/GhTRhxgcYnXkJhJCZAMJlyIGjT1BwqygmWz6ZaYgop5psAW9BDVWHuJ5CJaOFwQqhBBC+ClxwblRwf0vCNO38xJpHwWYfsuCaW5lSyGEECIZEi5CCCGEiAxyFQkhhBAiMki4CCGEECIySLgIIYQQIjJIuAghhBAiMki4CCGEECIySLgIIYQQIjJIuAghhBAiMki4CCGEECIySLgIIYQQIjJIuAghhBAiMki4CCGEECIySLgIIYQQIjJIuAghhBAiMki4CCGEECIySLgIIYQQIjJIuAghhBAiMki4CCGEECIySLgIIYQQIjJIuAghhBAiMki4CCGEECIySLgIIYQQIjKUiuXgvRdCCCEywr///mumT59u1q1b56VsZJ999jGVK1c2dD8zZswwixYt8r7ZQOnSpc1BBx1kdthhBy9FiI1IuAghhMg4iJbbbrvNLF261EydOtUsW7bMbL/99qZu3brmf//7n2nUqJH577//zP33328ef/xxs2TJEvu7evXqmX333df06tXLVKpUyaYJ4UfCRYgIwGM6aNAgM2LECDNgwABTtWpV7xsRdYr7vV29erW59dZbrTg599xzrVApW7as960xa9euNbfffrv59ddfrVipUqWK940Q4SjGRYgIsH79ejs6FcWPonxvX3nlFdOqVSsrKhAg3bt3N126dDErV6709kjONttsY04++WRrbZkwYYL58ccfvW82iLbXXnvNrFixwjzyyCMSLSIlJFyEiAD4/Dt37mzeeustWVuKGVG6t1tttZX3Lj0OPvhgU79+ffP777+bDz/80AoWtg8++MBuN9100yZWGCESIVeREEKIrEI38+ijj5qbb77ZNG7c2AwcONDMmjXLDB482Nxzzz2mYsWK3p5CJKdECRfMm/PmzTN//vmnl7IpNWrU0AMkhBBZgNlD559/vvnhhx9Mt27dbMAuMS20u0KkQ4G6ioYMGWIjxpnixiufCwL8p6j9Aw44wJ63RYsWodvTTz/t/SL6INAY3Rx++OG2vHklAPC7774zDRs2tGlh20svvWR/j98dE+4FF1xg9t57b7Pnnnva9zQ2fqZMmWKPN3PmTC9lI4ykWrdubRYvXuylbAABee211252bo7lh/v25JNPWv8439eqVcvccccdubMPwB2Lc5Her18/e63kt127drlmaSCPya7df7wg7veujBwcn/NwPs5LPmmYiQtIBtcczEe8sua8eSlPF5twyimnmN9++82mAdNUH3roIXPiiSfa+hLv2rm+l19+2eYreO1AfshXvPM7/PeH71u2bGlGjRplgzMd7lhh53Fl5T9usjJh472De8K94R758xrcLwgzYp555hlz+umn23Jg4/2bb75pnxUH+eF4d911V+g0YFwlxIykch3pXFu65QbB54vnnHrnf2bAnS/smUgH3GBYW2D06NESLSLPFJhwQaRcddVVVm0Dr3zOtnjBunLxxRebp556yj58NJR333232W+//WzjxfnHjBlj/csdO3b0frWhsR47dqx54IEHcjci/v/44w+zfPlya+L0fzd79mzvl4UPDU/z5s3tCIdofq6PV9ZV2HXXXU3fvn1tGo1WtWrVbEPOZ7YGDRrYY3z66afmvPPOMwceeKAtI/b9559/bBlm4lpp1N156czC6N+/v3n22WdN+/bt7X5MoXzxxRdtpxDsZMhb7969c6dXIkLxx3fq1Ml89NFHdp899tgjpWtPB+oJAYw0+NSn559/3tx33322jC666CIrCJJBPsiPywfvuT78/qmIH0hUngRHkhc6qpEjR+Z2StQPyvOaa65JGBRJMOVjjz1mO+8w/v77b8M6HJw37PzAc3jFFVfY4ExXJ4877jjbBiCo/R1ltvjrr79M165drSCkDpGH119/3Qq6ZCxYsMB2tnTyw4cPt/Vrp512sm0LAj/Ie++9t4lIdPBcvfvuu96nwoP7cfnll9v7yqCNsnjiiSdsvE3btm1tnc70PaEecs+B59Qv+IRIhwITLkSMhxEvPRPQUDNKQGzQoVx33XX2wbnyyitNz549zbfffmsbn2OOOcYcddRRZuedd/Z+aUypUqXsOgM81DS2n3/+uW206PjLlCljO6nx48eb6tWr2yl+jFaKAnSUTC086aSTzHPPPWdOO+00e3280vGTfzpo0g477DAbEEfHyWc2FoUCZgDQydF5UmZcO2syMGqm8c0PdMp0yPvvv789JwtNhVGzZk074wBLBvtdeOGF9h4iRH755Rdvrw3Q0NIBufw2a9bM1q2jjz7aNsiINq4plWtPB/z0Dz74oBVNWLhcWSG6dtxxR/PGG294e8aHfJAflw9+j5hAjAUFWhiplCejXTqqF154weaZ3yCQmjRpYo4//nhvr81x1kqEDetvhIHFZMstt7Tfh50fUTVs2DC7HwMIVye5l/fee6+dBpyqQMsPP//8sxUN3CeXB+pDKu5hyg/Bcskll9jfUb8Qiqw3EnQ9c//opL/66isvZQNYvhhU4C4pTNz94BmiXaQ9dNfEs3LDDTdYQZOK6E4H2o63337btkEMXGlXC0KwiuJHgQkXZ2kJEi89EzBCYjSHlSBoknSN1cKFC+1rGNttt521zCACGHXS2G+xxRZm1apVZuLEibbDOvXUU+2xaLiLApiD6SCuvvrqfEXp0/nUrl3b+7QBOnZWvMxvg8bIl3JPNvWRsi1fvrz3aYOYJF8IzqD5HMGAC8JPuXLlrFkeFw8m+mwwadIkK36PPfZYmz8HdaJOnTr23KmIDz8s2EWjTln7rz8eqZQneUOEc08RL1gYqdNYpOhkw6BTwfXwxRdfmEsvvdQKsTC4F3TKPC9h0LHzvGAF3G233bzUDXlCsGHJmT9/vpdaNMESweZA0CGgSUNg+9l9992tiMaNxH6On376yV4nYrEwcfcDVxdi1w/tGHnnfjJYyxSUA1YuBoiIcnjnnXfsoFKIdCkw4RLPl5ktHyeNIRYRRhLEtQRJtaGkcW3atKl9T2dCJ4Sv+4wzzrCiJhWSxVaku/l920EYVWIFqlChgpeSN+i0GAUPHTrUmvYZoZ5wwgm2DIJMmzYtN27Bv9FQhcGIn04w2aqYCLAvv/zSjvixFtCgnnXWWd63m8LIN6zjxIoWJnSSQd6D18M1cq1+EAyIF+qxf1+uD5fk3LlzkwqXYPnttddetpPDGrHLLrt4e8Un1fJEyCJA6FBxmTDSTiR2vv76a+v2QgQnek4Rsgi1eHWOZxF3EvXWX0ZsWGm4P0ExjGUjuC+xOGE4keffF4GEdccPzyt1mGvCDcx9mzx58mYWk0Qg5Dg+4gS3MwOjMAsXQpZ7jzsOeJ7IJyLHL96Skeq1OVIpN3c/sBr7xbaD+8j9nDNnjpeSPxBBzCJCJNFucg+oT1i/XPkIkQ4FJlxYpyCMeOn5BZ80DeIhhxyyWYOKqZTlqGl8giOOMHAD0cC6gDKOmY7golPFh0xDkIkNV9C2227rHX1zGEH7R4fpgmB4+OGHrauMkTnlh3DA7caIKUgwRsNtHTp08PbYCI0Y/v+w++KHzoT4AeJsiBfBesHCV7hkwsASFtYIA/c5UXmFQd6D1+PiYoJgkcOlFdyfDbdEPEuEI1h+BMJyPbjGEDCJSLU8Hbg52QDXWTzo2LAocm1YvuKVLc8SnQ+ulGQWPgSDv2z8WzC+yB975LZ4sVA8m7hx/PuGxa5gGcMFQoAosTVYoBDkPNepQj45PveIdgG3j4uh8oMgZLDC80MZIZzZj/JM59lM9doc6ZRbQUBbQmwgEGeFRccfpIuIpg4LkQ4FJlwIXsTv7zp8XvlMejZYs2aNDQBjFLr11lt7qRtglMxIHktKKsKFBhkz98cff2xN7cRNpAMPK40mo/9MbIyi4nUkdEbff/+9dR/kFaw2jCwRCcTJMFLG/821h7kVgjEabsNyEISOmJEuxwveFz90xlgSiH+g4SVwGncQo88wEKphlg1mUdHBpNKp+yHvwetxcTF+KG+CtRlJB/dnw9oXzxXjCJYfZYPFh+BiyiERqZYnYK6nEznyyCPNZZddZmOAwkz1dDYEZBMDgYUmkSBB4HzzzTd29B5PHJLOMbgef9n4t2B8kT/2yG1hlg3A2sQ1+feNF7uCtQF3Ki5Egme5fjrUVCGfHJ/yRojxSllxXD+IE9oX7h+WS6xqPLsEu6dDOtcGqZQbdZb2iIFdWIwJgdYMHNLNaxCOjaDHuo1L0rnTeR6IAyIfWF2SiXMhghSYcAFEymeffWYDJXnNlmgBGkv/6NLBw8QoiE6R8ydqlB38hlEBDxoBd0V5hICVhM6EYFU6oLzA7xEviD6/QGI2Bvctr5AfRqqIxWD8TBA6TdwkfsHB78NcVcBo1r+UONAxIXyOOOKIuA19fmE1UFyBzCwJ6wSySTrlSd4YfeP+wZ1AQDnQ6QbrCUKI2UZY2ZIJe0QLcWpYxOJB2SPMGF0XZkwDZfDqq6/aPBBnwfOcKpRRurNgWH6Ba6duEJTKs5lKe5NtyBOWU56N4DPDdWKBwkoYTyimAmVNG/TJJ59YC3Hwut3SFArSFXmhQIVLQeJGzDw4BDsCDwdxL/iliT9gJJMKWFo4Bq6Koj5CYOR744032tEgo2UaTNcRMU04lUBRRpU0KlhcMEvze6weTE2mwckLjOKw4mD2ZvlvRqAclw23HfCKOMK0TswHIok8UOZsmPfjxaqQ5x49eljfP8ekg2I2ElYGzPnJrB555dBDD7UdPDNkmI1BPjk/s4mwVKUi9MgjgtiVB8fAJcm9orMLI93ypIPC9UOdwFRPnAT5RrgEXR3Ud9wcuCPiWfYQllzjnXfead0tiUbnlD1uP/JMjBIzWcgn1ggsQKzNk0q9zC+UAXW4TZs2SQPDgxCoevbZZ9vnyN0jZrBhkSSGJEwEYdXAIsOfC3J/Um1vsg3WICyY1AGeEWLIuCbaCuoHbkuepXTLCGHHoAcrJ3FxiEPET7AOsR95cG5XBpKIf34bJg6pG7S9uE7zY0kWxYdiK1xoLKnsNCh0XMRn8JAyCmDKH4tfxWuU/TBCxYfPMXAXQVEeIXBNBMDRwNJh0RDRWdDJ4Z5L5k4AYkLoTLB4sPYGbgViLuhMMV3nBRomjkOHxwiM+AK3XX/99XYfXhEeuPhwxxFnQ/lj1uf+cc9YYyIMOgXEFUKV66XhxaROcHE68UjpgvmbMiJ2go6RvHJ+xDHuo1TOTQwPVhBXHlhDmLmG0AiLqYF0ytOtsUIngone1XvKhzoddBkRV4GoCVor/TAlHvM/gwOes2TCkHIgqJ1z4gYjn0zP59kiD+nGIKULVlLqArO0uEepPPt+GAjR0TMgIO/EQOFyZj0XZufEA+FJ2XDdyYKnCxKsLgTMIgaYZebqDdfIYCVddzjgFkLsYIXk2cV9RmB3MJCY/VxcF2CRos7xvIStiSNEkGK/5D+Xh7UEE2iY6ygRmDExpzJywNTJyJjGFhcEDz0dvEgN4goQHyzch68/DMQVo32sYaneJ0ZjBCSyuBwzZUoK2SpPIYQo6hRbi4uDkRXBrDTuqTbeiB0CXN3iTM4/yyujQ8zE+V2ETQghhBDpU+yFS7pgSWElUQI6MW3jcnEwgmX1WGCUz3+DEJwohBBCiIKhRP07tCh+lFRXkRBClFRkcRFCCCFEZJDFRQghhBCRQRYXIYQQQkQGCRchhBBCRAYJFyGEEEJEBgkXIYQQQkQGCRchhBBCRAYJFyGEEEJEBgkXIYQQQkQGCRchhBBCRAYJFyGEEEJEBgkXIYQQQkQGCRchhBBCRAYJFyGEEEJEBgkXIYQQQkQGCRchhBBCRAYJFyGEEEJEBgkXIYQQQkQGCRchhBBCRAYJFyGEEEJEBgkXIYQQQkQGCRchhBBCRAYJFyGEEEJEBgkXIYQQQkSGUrEcvPdCCCFEWqxcudJMmzbNrF692kvZSMWKFU2NGjW8TxtYtmyZ3X/t2rVeygZq1qxpKlSo4H0SIj4SLkIIIfLMvHnzzF133WXmz59vBcmSJUtM5cqVTfXq1c25555r2rZt6+25genTp5sbb7zRfPjhh/bzIYccYg499FBzyy23mD322MOmCZEIuYqEKOK8+eabpkGDBmbKlCleiiguFId7W6VKFTNw4EAzcuRIc9FFF9m02rVrmyFDhmwmWuCggw4yd9xxh6lXr579zQcffGAeffRRiRaRMhIuQhRxVq1a5b0TxY2iem9nz55tTjzxRDNu3Dj7ecyYMaZp06Y2PR6lS5c2xx57rH3/2Wefxd33zz//NI888oi57bbbTOPGjc0WW6gbEumhGiNEEad169Zm8uTJpn79+l6KKC5E5d4iLhAmyTjwwAOtGPn999/tdQUjEVasWGHuvfdec/LJJ5uGDRt6qUKkh2JchBBCZIR169aZPn36mHvuuceceuqp1gW000472e8IxsXSsvPOO5t27dqZLbfc0qYLkS4lSrgQ/U4gGabKMIh+JwpeCCFE3iBe5/TTT7fvR4wYYa1JiBZEDN1N586dJVpEvihQVxHBWgRk7bDDDvaVzwUB5kkemgMOOMCet0WLFqHb008/7f0iuvz111+mX79+5uijj7blXKtWLXP77bfb9GuvvdamhW18h7CjYWFmAI0Lv+W7li1bmvfff38Ts+/ixYutmfull17yUjZCw8XvwgIO2d9/XjZGZ37Wr19vA/YuuOACs/fee5s999zTvp86daq3xwY4FnlAiI4aNcrmk+M1adLEDB482F4PzJw505qlg+d1m7sGdzyuzQ/HoXxcGTkoD2ZGMHokj5RXt27dzK+//urtER9XfsG8kPdXXnllk6milCP55zqCJCtPYhOqVatmJk6c6KVsgGMedthh9nuId+0//PCDzVPw2sGVS/D8rjwd7Mf94Dh8z6v//oA7VrAugLt//uMmKhOOEbwWZrrwXBx++OGb5DXsmv0wxfe1117LrYv8BjfHsGHDNpn+6+r85ZdfbtubIKTxHfsku450ri3dcgPyTVAs4oJ6y8Z7nqHgFOV49SIRtLO4i5j2PGHCBHtMyvCXX34xl156qUSLyDcFJlwQKVdddZVtCIFXPmdbvNCpXXzxxeapp56yDzgP59133232228/29Fwfhrvt956y3Ts2NG899575oEHHthk8weZ/fHHH2bAgAG537366qtmzZo13reFC2VKFD/XeMUVV9jrorGGUqVK2Yh/0l5//XVzyimn2I33pPHd1ltvbWbNmmWuvPJKs+2221qzLg3cLrvsYo/3ySef2GPlB0zJ7rzDhw83devW9b7ZyKeffmrOO+886y/n/jz55JPmn3/+sfcvGPCHyHn55ZfNG2+8YfPNtRNEeOutt5rHH3/cNprMVujbt6+9To5FR47A4DMbszrSBdGCwKBDox49//zz5r777rP5oyyx7KWCPx/k/aijjjJdu3a1DX4qJCtPRAIdD+X4999/27SlS5dakU4HfPzxx9u0MOhsn3jiCfP55597KZtCB8gUWHcNrmz9cAymufL8ufrXvn17+wzdeeedoWt/ZBo6d6br8qxed911ueXdoUMHb4/4LF++3Ha6bpYMzwPrjXCPKO8g3Lcff/zR+7SRGTNmpHxPswn3o0ePHubqq682RxxxhK23zz33nKlataq57LLLTP/+/TcTL+my44475j5TPMtYXcaOHWunQJctW9amC5EfCky40AmGES89E/CQMhJBbPCA0mgdd9xxtoPr2bOn+fbbb63/9ZhjjrEdBr5XLDKM3D/++GMzfvx4+56RloMFkipVqmStEieccII56aSTzFZbbeV9W3jQKfXu3dvstttudpSEFYDratasmW2oyDfrJZBGo4JLjI33pPEdwXdcC8ehE2bUxMbURdZlePfddzexuuQFOnSEBOV95JFH2kYuyPbbb287iJtuusneLzpYZiAwaqYh9EOe6Fwee+wxe63sf/PNN9trII01Izieu06sDDSedLB8ZuPa0gWB9+CDD9rzcD6XTxp+rgkhlQr+fHAMxBnTRRFqqZCsPMuUKWMFOaNdN0OEKbg///yz6dSpk9lmm21sWhDuM9dAPSdWIQw6uP/++8+uweEvWz+jR4+2FgSEC4KF/RAwCGoGC3To2WbBggW23mBFdHlg22uvvbw94kP7QN5d28HzwP2mrDmuH9Jwi2CF8z8nvCdQlXuEyC1MuB9siBX3fHFNPO8PPfSQFZ/ffPONt3feYJDE87b77rvb55MBBOeSG15kigITLs7SEiReeibgAR00aJDtDIKrN7qHaOHChfbVsd1229nOhAcaUyuCwG/axGRKo4/gooNh/6LA999/b0fGXbp0yVcDsc8++1g3E42PA0GH+RcBmJ/pm4x8caNgmsaiEw/KlRGuH8QFeQtaMrhXCAb/PSLvWF0QnNnqGCdNmmQ7NaZ/+suKsq9Tp46tO35XSCogBLBqMSODtTGSkWp57r///lakDB061AryZ555xlxzzTUJz4Gox0qFtfLggw/2UjcFIYkLkvoRBq4CxD/TalmMzA8dOAOAMOtEUYLZNP66hVBDiFEPsVj4QSAz0OGaeVYcvEe4tGrVqlCn/rr7gVucAZof6jDWOdpJrM75Zd9997X3mDLB4hZsf4XIDwX2FMWruNmq0O4hZWQVfEgBE3ciGjVqZEWJf0ofFpwXXnjBnHPOOSmZPBE5mOmdPz2/WyJfMw0pHTudWH5BzOEGwdLSpk0ba1li1BnGJZdcslk+6ajCoJNDYNGxJ4LypkOmo8Xlc9ppp9k8hJna6XwZ2QXh3tFoBoVOMjgH5ei/HqxYweunjBAv1F//vlg8cEXOnTs3JeHiLz8EQK9evex0UUbvyUi1POmUEHdYGHCPYBlJ5CJCrDMCZ9SMtcUvzPwsWrTIvsZbpp1OnnK6//77Tfny5TcpJ1wTjMYZBPjBpePfj424FCw/QUgLxqywcQw/XDftAIMN6jX3jS1ZG+DHxbDgNsXKxrEY3AShbKl7fssg7/ktnXmqpHptjlTKzd0PBiFhljbaNJ6n3377Ld/ry3CMOXPmWPGCW16ITFJgwgUzbRjx0vMLZlxGjbhAgg0rcQG4EOjwGI2GQcOK2ZegRsQCo2HcTbiGUrVoMCInloAHOBMbx3JTC8NgZJgftxWCgYadOAlEAzEv559/vo1FOPPMM729NsUfo+E2F1cT5KuvvrKvwdG3H8r54YcftsIRVwL3jqBGXH6Y2oMwgk00ikW8pAPXTuyC/3pcTFAQ6gLxD/593YY7IRVrXDDG5YwzzrDXyzmTkUp5Oqgb5cqVs9YcxFW8NTmoA4hzXEu4VBMJ9O+++84K5V133dVLCQcroL9s/Bui1A/CKrhPWOwMkMZ3wf2DsSt00rhLsTLhInbB+FieUoXOl2PjwkSYY4kiZsYNahwINFyWuOMY6CBeaUOaN2+elnU21WtzpFNuBQEDBuK9EC6IPSEySYEJF4IY8f87CwuvfCY9GxAwywgDczQdsB9GHV9++aV1J8QTLjTYjDgZadFB4HIiWDQdCxEdKkKDkXQmNo4Vr5Omg8YtksqMlngg0BBndFgE1BGAyIib0X+8RpeG0cUMuA1XTxAacRpzRqmJrEKMwInRYVSLHx43Hx0BrqOwUSLB127k78eN+NIZ5QKdOtfrvx7qQVCsUt7E1hCo6d/XbVj54sWP+PGXH2Vzww03mLPOOsuWFVbDeKRankDnitsUoYHliA73o48+8r7dFFxJBOQinuI9G0CHzCwv7jWCKAwnljg/otNfPm4LPk/OOuLfwmJngDS+C+4fFrvCYAU3HAMZrFT//vuv6d69u/dtchDQHJt4EKyA119/vR1IIASDUF9wgfE8Ugdpb4JupWSkc22QSrnRDiIyuf6woGjqFIKDQVsi12MyKGtWzgUEH3FWQmSSAhMugEihQtNo8Jot0QI8eDwwwYeGRpSRPMGVnD+sQXTQANHx0YHzwIeN+IsKdOx0NMOGDbMNUF4gIBT3A/Ekfr8+IycEXH7g92y4LBKtwImbAvGC4PS7KOgkXWPoB1M4Zn9mFzmw2iC8uGdhIioTYI0jjoVp28FRd0GQankCnSgBkgTFYuHAqoOrwx+HAYhelg0g1gGLRDwXEVAnED8ItHjnR7TQYRMUzPNWmOCW4rnH+pOOO5VOmC0dcLfgpsHtiLWF4GXcjYUNYpv4NawxwWeJOkxeefby284h6KkfnI9yECLTFKhwKUjcCIRRFtM/gYeTuBesJ8QhJIsjYJRNgCeNOA1+ooa8sKExJnKfxpl/ZMXVQIfOzBDM5G4qbCJwnWHapVN79tln7e8ZoWP9IO4jLzCy4zjM8KEBJx98ZuPeIJaINSCWCAsDoonOkHO6a8D1RH7wzQchcPSdd96x10hQIR0UFiM6ambT5GXGUCpwLVglmG2ClYTzklfKGytRmMgKgwbelQcbMzuwNOGOCHNzpVueiFjECPfVBTEzswaLCdN7EXkOAuWxUjL1PZ6gx7rFM8QsL6xNiTo5nhem59ORM8uNfLi8Uq8QEfFitjIJAg23EM9wukL2p59+slPzcbuQb+oYbkviv7hHYW5jLG2UNS5Hpupj2S0qbQcuX1yctBGscOueGeow7QcuzmBgfKpQd7ifxPQgqmk7sfJQR/0Di2TwTFBmtEPpikZRMii2woXGg4aRxp84DRobGk9iODCFE/2frDHBDUGQJaNrvwWiqMJiUy+++KIVbZjBEVx0cIiOVMy1dFb8jlESr3RwNCKIiHgm6mQw+kJ4vP3229YKwswKF2OAS4SZUHQq3CvikhBPdApu7RjWlsA9RtBqcKov0HFwb9kfwUKDjFDF3UQjna0Og/pA/ihfLBpcF9eDKKZDT9WliIB25cGGS4fyDsZ+ONIpT9xllAMihoW/nBhB5BITgXDxu4x4VrimRHERdOQ8T7guCQhNFHMF3B9cwtwXxAr55J5iqSLugyDSbMJghXLCZUNQfSruOz+4iHB3UKbknTaEjpk4LK4jnrWJzh+hjXuZrahAHSBmjXrHPaAdpC4gcBFaeX1m+D0xRLQ1LGaHC40YQ1yZPA9ffPGFt6cQGSDnwS7W5Cj9WM4oNJYzUozlPFxeampMnDgxltMAxaZNm+aliHSh3HM64VhO5+mlbE5Oxx/L6YDtazrkNLT22JyjpJDN8hRCiChQbC0uDkYPjOoYIaYTJJZTNtbcz4wN4i2EEEIIUfgUe+GSFwYOHJj7z6bMxCCIF9O8EEIIIQqXEvXv0KJ4QfwGa47wh31Y1IQQQhR/ZHERQgghRGSQxUUIIYQQkUEWFyGEEEJEBgkXIYQQQkQGCRchhBBCRAYJFyGEEEJEBgkXIYQQQkQGCRchhBBCRAYJFyGEEEJEBgkXIYQQQkQGCRchhBBCRAYJFyGEEEJEBgkXIYQQQkQGCRchhBBCRAYJFyGEEEJEBgkXIYQQQkQGCRchhBBCRARj/g+kqk+r/qIGXQAAAABJRU5ErkJggg==)"
      ],
      "metadata": {
        "id": "EYFSMtGGjHAH"
      }
    },
    {
      "cell_type": "code",
      "source": [
        "#без використання жодних бібліотек, користуючись тільки Python.\n",
        "\n",
        "#1: Обчислімо середнє значення для обох змінних\n",
        "mean_x = sum(sum_purchases) / len(sum_purchases)\n",
        "mean_y = sum(visits) / len(visits)\n",
        "\n",
        "#2: Обчислімо коваріацію\n",
        "cov_xy = sum((sum_purchases[i] - mean_x) * (visits[i] - mean_y) for i in range(len(sum_purchases))) / len(sum_purchases)\n",
        "\n",
        "#3: Обчислімо стандартні відхилення\n",
        "std_x = (sum((x - mean_x) ** 2 for x in sum_purchases) / len(sum_purchases)) ** 0.5\n",
        "std_y = (sum((y - mean_y) ** 2 for y in visits) / len(visits)) ** 0.5\n",
        "\n",
        "#4: Обчислімо коефіцієнт кореляції\n",
        "correlation_coefficient = cov_xy / (std_x * std_y)\n",
        "\n",
        "print(correlation_coefficient)"
      ],
      "metadata": {
        "colab": {
          "base_uri": "https://localhost:8080/"
        },
        "id": "7UpyrWjPjZNv",
        "outputId": "2307a16e-414b-41f1-d571-57279b0397eb"
      },
      "execution_count": 28,
      "outputs": [
        {
          "output_type": "stream",
          "name": "stdout",
          "text": [
            "-0.30265844687666454\n"
          ]
        }
      ]
    },
    {
      "cell_type": "code",
      "source": [
        "#використовуючи відповідний метод бібліотеки numpy.\n",
        "\n",
        "#Обчислення коефіцієнта кореляції Пірсона\n",
        "cov_xy = np.cov(sum_purchases, visits)[0, 1]  # Коваріація\n",
        "std_x = np.std(sum_purchases)  # Стандартне відхилення для покупок\n",
        "std_y = np.std(visits)          # Стандартне відхилення для відвідувань\n",
        "\n",
        "# Коефіцієнт кореляції\n",
        "correlation_coefficient_numpy = cov_xy / (std_x * std_y)\n",
        "\n",
        "print(correlation_coefficient_numpy)"
      ],
      "metadata": {
        "colab": {
          "base_uri": "https://localhost:8080/"
        },
        "id": "Xq-hfnkSjQO7",
        "outputId": "dd9b8495-fea8-4fd3-bd70-464b7385a8d8"
      },
      "execution_count": 29,
      "outputs": [
        {
          "output_type": "stream",
          "name": "stdout",
          "text": [
            "-0.31858783881754155\n"
          ]
        }
      ]
    },
    {
      "cell_type": "markdown",
      "source": [
        "Значення кореляції в діапазоні від -1 до 1\n",
        "Значення −0.3 та 0.32 свідчать про слабку негативну кореляцію між сумою покупок і кількістю відвідувань. Це означає, що, в цілому, зростання кількості відвідувань не обов’язково призводить до збільшення суми покупок і навпаки.\n"
      ],
      "metadata": {
        "id": "cynMG1sPmYDL"
      }
    },
    {
      "cell_type": "code",
      "source": [
        "import matplotlib.pyplot as plt\n",
        "\n",
        "plt.scatter(sum_purchases, visits)\n",
        "plt.title('Scatter Plot of Purchases vs. Visits')\n",
        "plt.xlabel('Sum of Purchases')\n",
        "plt.ylabel('Number of Visits');"
      ],
      "metadata": {
        "colab": {
          "base_uri": "https://localhost:8080/",
          "height": 472
        },
        "id": "gaeoGA-5Prr1",
        "outputId": "1ff99368-44d4-41ba-978e-c02fb4fbadd9"
      },
      "execution_count": 30,
      "outputs": [
        {
          "output_type": "display_data",
          "data": {
            "text/plain": [
              "<Figure size 640x480 with 1 Axes>"
            ],
            "image/png": "[encoded data removed]"
          },
          "metadata": {}
        }
      ]
    },
    {
      "cell_type": "markdown",
      "source": [
        "Точки розташовані вгору по осі y свідчать що сума покупок збільшується в міру зростання кількості відвідувань.\n",
        "Також є 2 віддалені точки можут бути викидами"
      ],
      "metadata": {
        "id": "bGnT3QcinrY2"
      }
    },
    {
      "cell_type": "markdown",
      "source": [
        "**Завдання 7**. В попередньому завданні ми помітили, що викиди нам заважають отримати \"правдиве\" значення кореляції. Давайте вилучимо записи, які відповідають значенням з викидами в сумі покупок і обчисліть коеф. кореляції. Для цього поставте `threshold`, який дорінює середньому значенню + 2 стандартних вдіхилля суми покупок і всі значення, які більше за нього, будемо вважати викидами (є і інші правила для визначення викидів - з ним и познайомимось пізніше).\n",
        "\n",
        "Вилучіть значення з обох масивів і обчисліть коеф. кореляції Пірсона з допомогою `numpy` для кількості візитів і суми покупок без записів-викидів. Виведіть результат на екран, побудуйте діаграму розсіювання і проаналізуйте результат: що можемо сказати про залежність в даних?"
      ],
      "metadata": {
        "id": "4pEg0KzSQ6KA"
      }
    },
    {
      "cell_type": "code",
      "source": [
        "# Дані\n",
        "sum_purchases = [316, 493, 367, 153, 224, 121, 322, 450, 196, 397,\n",
        "                 281, 239, 484, 124, 223, 448, 432, 255, 4310, 3524]\n",
        "visits = [5, 7, 4, 2, 3, 1, 6, 8, 2, 5,\n",
        "          4, 3, 9, 2, 5, 8, 7, 4, 6, 10]\n",
        "\n",
        "#1. Обчислення середнього значення та стандартного відхилення\n",
        "mean_purchases = np.mean(sum_purchases)\n",
        "std_purchases = np.std(sum_purchases)\n",
        "\n",
        "#2. Визначення порога для викидів\n",
        "threshold = mean_purchases + 2 * std_purchases\n",
        "\n",
        "#3. Вилучення викидів з даних\n",
        "filtered_sum_purchases = []\n",
        "filtered_visits = []\n",
        "\n",
        "for i in range(len(sum_purchases)):\n",
        "    if sum_purchases[i] <= threshold:\n",
        "        filtered_sum_purchases.append(sum_purchases[i])\n",
        "        filtered_visits.append(visits[i])\n",
        "\n",
        "# 4. Обчислення коефіцієнта кореляції Пірсона\n",
        "correlation_coefficient = np.corrcoef(filtered_sum_purchases, filtered_visits)[0, 1]"
      ],
      "metadata": {
        "id": "Yj3Yfaf7UBbc"
      },
      "execution_count": 32,
      "outputs": []
    },
    {
      "cell_type": "code",
      "source": [
        "plt.scatter(filtered_sum_purchases, filtered_visits)\n",
        "plt.title('Scatter Plot of Purchases vs. Visits (Without Outliers)')\n",
        "plt.xlabel('Sum of Purchases')\n",
        "plt.ylabel('Number of Visits')\n",
        "plt.show()"
      ],
      "metadata": {
        "colab": {
          "base_uri": "https://localhost:8080/",
          "height": 472
        },
        "id": "ZRJbq2BOpmam",
        "outputId": "e22b6473-4072-4616-e079-e33eb02da177"
      },
      "execution_count": 33,
      "outputs": [
        {
          "output_type": "display_data",
          "data": {
            "text/plain": [
              "<Figure size 640x480 with 1 Axes>"
            ],
            "image/png": "[encoded data removed]"
          },
          "metadata": {}
        }
      ]
    },
    {
      "cell_type": "markdown",
      "source": [
        " Точки на діаграмі розсіювання йдуть з нижнього лівого кута до верхнього правого, це вказує на те, що існує пряма залежність між цими двома змінними.\n",
        " Чим більше клієнти витрачають (сума покупок), тим більше разів вони відвідують магазин."
      ],
      "metadata": {
        "id": "QHttiH6bqz1U"
      }
    }
  ]
}
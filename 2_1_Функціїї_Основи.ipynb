{
  "nbformat": 4,
  "nbformat_minor": 0,
  "metadata": {
    "colab": {
      "provenance": [],
      "include_colab_link": true
    },
    "kernelspec": {
      "name": "python3",
      "display_name": "Python 3"
    },
    "language_info": {
      "name": "python"
    }
  },
  "cells": [
    {
      "cell_type": "markdown",
      "metadata": {
        "id": "view-in-github",
        "colab_type": "text"
      },
      "source": [
        "<a href=\"https://colab.research.google.com/github/AnnaBo1/python_for_DA/blob/main/2_1_%D0%A4%D1%83%D0%BD%D0%BA%D1%86%D1%96%D1%97%D1%97_%D0%9E%D1%81%D0%BD%D0%BE%D0%B2%D0%B8.ipynb\" target=\"_parent\"><img src=\"https://colab.research.google.com/assets/colab-badge.svg\" alt=\"Open In Colab\"/></a>"
      ]
    },
    {
      "cell_type": "markdown",
      "source": [
        "# Домашнє завдання до теми \"Functions\""
      ],
      "metadata": {
        "id": "QtHabST6Ez_n"
      }
    },
    {
      "cell_type": "markdown",
      "source": [
        "1. Напишіть фукнцію `print_message`, яка виводить на екран \"Я програмую на Python💪\" і викличіть цю фукнцію 5 разів (найкраще це зробити в циклі).\n",
        "\n",
        "  **Увага**: фукнція має робити чітко лише зазначений функціонал. Наявність додаткового функціоналу і аргументів, які не потрібні для виконання безпосередньо завдання, буде вважатись помилкою."
      ],
      "metadata": {
        "id": "6pg_NzFq5_kO"
      }
    },
    {
      "cell_type": "code",
      "source": [
        "def print_message():\n",
        "    print(\"Я програмую на Python💪\")\n",
        "                    # Підкреслення  пысля for _ використовується як ім'я змінної для циклу,\n",
        "                     #оскільки змінна не використовується в тілі циклу,\n",
        "                     #але можна вікористовувати і щось інше\n",
        "\n",
        "for _ in range(5): #for ініціалізує змінну i яка пробігає значення від 0 до 4 (всього 5 ітерацій)\n",
        "   print_message()"
      ],
      "metadata": {
        "id": "RbXsfwI_D8ql",
        "colab": {
          "base_uri": "https://localhost:8080/"
        },
        "outputId": "c6488cc1-d510-44f1-f36d-ad7e75651f56"
      },
      "execution_count": 16,
      "outputs": [
        {
          "output_type": "stream",
          "name": "stdout",
          "text": [
            "Я програмую на Python💪\n",
            "Я програмую на Python💪\n",
            "Я програмую на Python💪\n",
            "Я програмую на Python💪\n",
            "Я програмую на Python💪\n"
          ]
        }
      ]
    },
    {
      "cell_type": "code",
      "source": [
        "def print_message():\n",
        "    print(\"Я програмую на Python💪\")\n",
        "\n",
        "for i in range(5):\n",
        "    print_message()"
      ],
      "metadata": {
        "colab": {
          "base_uri": "https://localhost:8080/"
        },
        "id": "BNoosKv-KXfj",
        "outputId": "a1aeef43-7981-4f4e-b12f-f4dc8fcaa24c"
      },
      "execution_count": 20,
      "outputs": [
        {
          "output_type": "stream",
          "name": "stdout",
          "text": [
            "Я програмую на Python💪\n",
            "Я програмую на Python💪\n",
            "Я програмую на Python💪\n",
            "Я програмую на Python💪\n",
            "Я програмую на Python💪\n"
          ]
        }
      ]
    },
    {
      "cell_type": "markdown",
      "source": [
        "2. Напишіть функцію `calculation` яка приймає на вхід 4 аргументи типу int - `a`, `b`, `c`, `d` і вертає результат обчислення такої формули: $ (a + b - c) * d $.\n",
        "\n",
        "  Викличте функцію на наступному наборі аргументів і виведіть результат на екран:\n",
        "  ```\n",
        "  a = 16\n",
        "  b = 4\n",
        "  c = 9\n",
        "  d = 3\n",
        "  ```"
      ],
      "metadata": {
        "id": "oyRpWRXWBL9N"
      }
    },
    {
      "cell_type": "code",
      "source": [
        "def calculation(a:int, b:int, c:int, d:int) :\n",
        "     return (a + b - c) * d\n",
        "\n",
        "result = calculation(16, 4, 9, 3)\n",
        "print(result)"
      ],
      "metadata": {
        "id": "Ggt2tx6kD-LS",
        "colab": {
          "base_uri": "https://localhost:8080/"
        },
        "outputId": "3975f8e3-384a-4f79-890c-62e0a2f3c156"
      },
      "execution_count": 24,
      "outputs": [
        {
          "output_type": "stream",
          "name": "stdout",
          "text": [
            "33\n"
          ]
        }
      ]
    },
    {
      "cell_type": "markdown",
      "source": [
        "3. Напишіть функцію, яка додає до аргумента 15 і вертає результат додавання. Викличте функцію, передаючи в якості аргументів кожну з наступних змінних по черзі, і виведіть кожного разу результат на екран.\n",
        "```\n",
        "x = 9\n",
        "y = 14\n",
        "z = -19\n",
        "```"
      ],
      "metadata": {
        "id": "5hf1CbllDU_t"
      }
    },
    {
      "cell_type": "code",
      "source": [
        "def add15(argument):\n",
        "    return argument + 15\n",
        "\n",
        "x = 9\n",
        "y = 14\n",
        "z = -19\n",
        "\n",
        "result_x = add15(x)\n",
        "print(result_x)\n",
        "\n",
        "result_y = add15(y)\n",
        "print(result_y)\n",
        "\n",
        "result_z = add15(z)\n",
        "print(result_z)\n"
      ],
      "metadata": {
        "id": "GvEs_nUtD_Cd",
        "colab": {
          "base_uri": "https://localhost:8080/"
        },
        "outputId": "deafc561-31fa-43e7-9087-c871e4d13927"
      },
      "execution_count": 27,
      "outputs": [
        {
          "output_type": "stream",
          "name": "stdout",
          "text": [
            "24\n",
            "29\n",
            "-4\n"
          ]
        }
      ]
    },
    {
      "cell_type": "markdown",
      "source": [
        "4. Напишіть функцію `multipy_numbers`, яка приймає два числа як аргументи і повертає їх добуток.\n",
        "\n",
        "  Викличіть функцію `multipy_numbers` на парах чисел\n",
        "    - 10 і 2\n",
        "    - 7 і 8\n",
        "    - 1024 і 999.\n",
        "  \n",
        "  Виведіть результат кожного виклику.\n",
        "  При виконанні цього завдання з використанням циклу - отримаєте 2х балів за нього :)"
      ],
      "metadata": {
        "id": "bUuVBhie53uK"
      }
    },
    {
      "cell_type": "code",
      "source": [
        "def multipy_numbers(a, b):\n",
        "   return a * b\n",
        "\n",
        "result_1 = multipy_numbers(10, 2)\n",
        "result_2 = multipy_numbers(7, 8)\n",
        "result_3 = multipy_numbers(1024, 999)\n",
        "\n",
        "print(result_1,\n",
        "      result_2,\n",
        "      result_3)"
      ],
      "metadata": {
        "id": "cDqrgZ4YEAKj",
        "colab": {
          "base_uri": "https://localhost:8080/"
        },
        "outputId": "8515e633-74f2-418e-ad7e-a3f33e6f30dc"
      },
      "execution_count": 53,
      "outputs": [
        {
          "output_type": "stream",
          "name": "stdout",
          "text": [
            "20 56 1022976\n"
          ]
        }
      ]
    },
    {
      "cell_type": "code",
      "source": [
        "def multipy_numbers(a, b):\n",
        "   return a * b\n",
        "\n",
        "all = [(10, 2), (7, 8), (1024, 999)]\n",
        "for a, b in  all:\n",
        "    print(multipy_numbers(a, b))\n",
        "\n"
      ],
      "metadata": {
        "colab": {
          "base_uri": "https://localhost:8080/"
        },
        "id": "qtb719_xUCsR",
        "outputId": "0207c11d-a572-4951-b2f4-21ea46b245a8"
      },
      "execution_count": 56,
      "outputs": [
        {
          "output_type": "stream",
          "name": "stdout",
          "text": [
            "20\n",
            "56\n",
            "1022976\n"
          ]
        }
      ]
    },
    {
      "cell_type": "markdown",
      "source": [
        "5. **Ділення з перевіркою типів.**  \n",
        "\n",
        "  1. Напишіть функцію `int_division` яка приймає на вхід два аргументи типу `int` - `a` і `b`, і виконує ділення першого аргумента на другий: `a/b`. При цьому функція перед діленням перевіряє, чи другий аргумент не дорівнює 0. Якщо другий аргумент не 0, фукнція вертає результат ділення, інакше - замість виконання ділення, вертає повідомлення на екран \"Не можу виконати ділення на 0\".\n",
        "\n",
        "    Якщо типи, надані у функцію, не `int` - функція виводить повідомлення \"Не працюю з такими типами даних.\".\n",
        "\n",
        "  2. Запустіть функцію на наступних парах чисел:\n",
        "  - 12 і 6\n",
        "  - 20 і 0\n",
        "  - 112 і 10\n",
        "  - 99 і 0\n",
        "  - 11 i 1.1\n",
        "\n",
        "    і виведіть на екран повідомлення \"Результат роботи функції: \" - і далі те, що повернула функція.\n",
        "\n",
        "  3. Дайте відповідь на питання: \"Чому в деяких випадках функція повернула None?\""
      ],
      "metadata": {
        "id": "I03t46k27dDZ"
      }
    },
    {
      "cell_type": "code",
      "source": [
        "def int_division (a, b) :\n",
        "    if type(a) != int or type(b) != int:   #перевірку типів потрібно робити до перевірки ділення на нуль, щоб уникнути помилок при неправильних типах\n",
        "       return\"Не працюю з такими типами даних.\" #робити відступи\n",
        "\n",
        "    if b == 0:\n",
        "       return\"Не можу виконати ділення на 0\"\n",
        "\n",
        "       return a/b\n",
        "\n",
        "i = [\n",
        "    (12, 6),\n",
        "\n",
        "    (20, 0),\n",
        "\n",
        "    (112, 10),\n",
        "\n",
        "    (99, 0),\n",
        "\n",
        "    (11, 1.1)\n",
        "  ]\n",
        "\n",
        "for a, b in i:\n",
        "    print(f\"Результат роботи функції: {int_division(a, b)}\")\n",
        "\n",
        "# функція повертає None, бо обидві умови - перевірка на ціле число та перевірка ділення на нуль не виконуються,\n",
        "# і тому до рядка return a / b функція не доходить\n",
        ""
      ],
      "metadata": {
        "id": "1-EQhxrAEEAb",
        "colab": {
          "base_uri": "https://localhost:8080/"
        },
        "outputId": "854e35ce-8b53-4c42-e35b-a9332063ef4c"
      },
      "execution_count": 10,
      "outputs": [
        {
          "output_type": "stream",
          "name": "stdout",
          "text": [
            "Результат роботи функції: None\n",
            "Результат роботи функції: Не можу виконати ділення на 0\n",
            "Результат роботи функції: None\n",
            "Результат роботи функції: Не можу виконати ділення на 0\n",
            "Результат роботи функції: Не працюю з такими типами даних.\n"
          ]
        }
      ]
    },
    {
      "cell_type": "code",
      "source": [],
      "metadata": {
        "id": "rWNqg1TdwAoM",
        "outputId": "a98694f3-2f73-4a22-864e-f81966dfd4c4",
        "colab": {
          "base_uri": "https://localhost:8080/"
        }
      },
      "execution_count": 12,
      "outputs": [
        {
          "output_type": "execute_result",
          "data": {
            "text/plain": [
              "0"
            ]
          },
          "metadata": {},
          "execution_count": 12
        }
      ]
    }
  ]
}
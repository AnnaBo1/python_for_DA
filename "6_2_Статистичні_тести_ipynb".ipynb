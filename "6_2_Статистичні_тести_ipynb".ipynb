{
  "cells": [
    {
      "cell_type": "markdown",
      "metadata": {
        "id": "view-in-github",
        "colab_type": "text"
      },
      "source": [
        "<a href=\"https://colab.research.google.com/github/AnnaBo1/python_for_DA/blob/main/%226_2_%D0%A1%D1%82%D0%B0%D1%82%D0%B8%D1%81%D1%82%D0%B8%D1%87%D0%BD%D1%96_%D1%82%D0%B5%D1%81%D1%82%D0%B8_ipynb%22.ipynb\" target=\"_parent\"><img src=\"https://colab.research.google.com/assets/colab-badge.svg\" alt=\"Open In Colab\"/></a>"
      ]
    },
    {
      "cell_type": "markdown",
      "id": "e152f6d6",
      "metadata": {
        "ExecuteTime": {
          "end_time": "2022-12-10T14:29:24.703416Z",
          "start_time": "2022-12-10T14:29:24.688485Z"
        },
        "id": "e152f6d6"
      },
      "source": [
        "## Домашнє завдання 6: Статистичні тести"
      ]
    },
    {
      "cell_type": "markdown",
      "id": "cd404683",
      "metadata": {
        "id": "cd404683"
      },
      "source": [
        "0. Зчитайте дані з `data.csv` та запишіть значення колонки data у форматі np.ndarray в змінну data. Ми будемо далі працювати з цією змінною."
      ]
    },
    {
      "cell_type": "code",
      "source": [
        "import pandas as pd\n",
        "import numpy as np\n",
        "\n",
        "# Зчитуємо дані з CSV\n",
        "df = pd.read_csv('data.csv')\n",
        "\n",
        "# Отримуємо колонку 'data' як np.ndarray\n",
        "data = df['data'].values\n",
        "\n",
        "print(data)"
      ],
      "metadata": {
        "id": "a8M1Xqa3hInl",
        "colab": {
          "base_uri": "https://localhost:8080/"
        },
        "outputId": "0a9301f7-cf8e-49e5-8329-8894186f78cf"
      },
      "id": "a8M1Xqa3hInl",
      "execution_count": 22,
      "outputs": [
        {
          "output_type": "stream",
          "name": "stdout",
          "text": [
            "[17.49945292 19.66239904  7.18282343 29.84162485  9.23938649 14.94951581\n",
            " 23.0172885  12.52827148 13.65228669 14.54595431 23.30872427 33.75324808\n",
            " 20.24923636 13.29244733 23.23434992 16.4230418  19.88521702 27.05000732\n",
            " 15.5127743  20.05415151 14.73135264 19.06139498 21.53942271 14.06732571\n",
            " 17.9670682  18.58289581 16.17406993 12.87432628 11.47269664 19.07902883\n",
            " 18.38565824 33.38820073  5.39139454 20.67635903 22.22266722 28.15780318\n",
            " 23.01114324 14.93471778 20.00005857 23.25411543 18.11895082 24.62607043\n",
            "  8.79145607 30.387108   28.80606806 17.98593597 23.66804468 20.28782355\n",
            " 15.02518827 20.52626131 26.00219532 17.71344489 17.74598346 19.55317542\n",
            " 22.60097798 27.67027538 16.19192417 23.05037746 21.29669604  8.84832568\n",
            " 17.48410111 19.20602661 19.76257856 21.9560206   7.75806171 20.27753314\n",
            " 15.93394654 11.36336584 23.14577858 24.41167746 16.08049839 25.05473769\n",
            " 17.71090111 20.39893405 13.40756632 29.50692234  4.04330326 19.45128426\n",
            " 24.17071763  7.79920072 18.86318441 19.53668801 24.94821803 27.48927752\n",
            " 17.57664638 11.692888   28.20341254 27.3073138  17.22796791 22.10533096\n",
            " 22.2911974  23.39765265 21.22524787 28.44017745  9.57224297 26.24494372\n",
            " 22.28283182 18.69718839 27.04118899  5.93838085]\n"
          ]
        }
      ]
    },
    {
      "cell_type": "markdown",
      "id": "3d06cbbf",
      "metadata": {
        "id": "3d06cbbf"
      },
      "source": [
        "Запустіть код нижче. Для коректної робити всіх подальших методів дані мають бути у вигляді одновимірного вектора, тобто мати розмір (100,)."
      ]
    },
    {
      "cell_type": "code",
      "source": [
        "data.shape"
      ],
      "metadata": {
        "id": "Rc_cM9TfhJYI",
        "colab": {
          "base_uri": "https://localhost:8080/"
        },
        "outputId": "0ddd8080-1062-449b-8949-55261ec429a7"
      },
      "id": "Rc_cM9TfhJYI",
      "execution_count": 23,
      "outputs": [
        {
          "output_type": "execute_result",
          "data": {
            "text/plain": [
              "(100,)"
            ]
          },
          "metadata": {},
          "execution_count": 23
        }
      ]
    },
    {
      "cell_type": "markdown",
      "id": "abdcef5d",
      "metadata": {
        "id": "abdcef5d"
      },
      "source": [
        "1. Зчитані дані - це сума покупок в доларах наших покупців на сайті протягом липня 2022 року.\n",
        "\n",
        "До цього місяця, ми мали продажі в середньому на чек $20. Чи вийшло у нас статистично значущо **підвищити** середній чек за останній місяць?\n",
        "\n",
        "Оберіть статистичний тест (z-test чи t-test). Виведіть p-значення статистичного тесту та зробіть висновок, чи ми маємо зараз статистично значущу різницю у розмірі середнього чеку.\n",
        "\n",
        "**Підказка**: тут тест буде одновибірковий."
      ]
    },
    {
      "cell_type": "code",
      "source": [
        "import numpy as np\n",
        "from scipy import stats  # імпорт для t-тесту"
      ],
      "metadata": {
        "id": "mdr03uiVNBm3"
      },
      "id": "mdr03uiVNBm3",
      "execution_count": 24,
      "outputs": []
    },
    {
      "cell_type": "code",
      "source": [
        "mean = 20  # Попереднє середнє значення чеку\n",
        "\n",
        "#Використання t-тесту\n",
        "t_stat, p_value = stats.ttest_1samp(data, mean)\n",
        "\n",
        "print(t_stat)\n",
        "print(p_value)"
      ],
      "metadata": {
        "colab": {
          "base_uri": "https://localhost:8080/"
        },
        "id": "CkLrHMU1NDzj",
        "outputId": "c6b58a59-2e62-4472-da76-8ff13e775b1f"
      },
      "id": "CkLrHMU1NDzj",
      "execution_count": 25,
      "outputs": [
        {
          "output_type": "stream",
          "name": "stdout",
          "text": [
            "-0.9953477389335053\n",
            "0.3219937839011988\n"
          ]
        }
      ]
    },
    {
      "cell_type": "markdown",
      "source": [
        "T-статистика: Показує, наскільки далеко від попереднього середнього значення розташовується новий середній чек.\n",
        "\n",
        "P-значення: Вказує на ймовірність отримати такі результати (або ще більш екстремальні) під умовою, що нульова гіпотеза вірна (тобто, середній чек не змінився).\n",
        "\n",
        "t-статистика: Значення t-статистики близьке до нуля, що вказує на те, що середній чек не відрізняється значно від порівняльного значення ($20).\n",
        "\n",
        "p-значення 0.322 є значно більшим за стандартний рівень значущості 0.05.\n",
        "Це свідчить про те, що ми не можемо відкинути нульову гіпотезу.\n",
        "\n",
        "Середній чек не змінився статистично значущо у порівнянні з попереднім середнім чеком у $20. Це означає, що за останній місяць не було статистично значущого підвищення середнього чека на сайті"
      ],
      "metadata": {
        "id": "CPCll1a0OUAN"
      },
      "id": "CPCll1a0OUAN"
    },
    {
      "cell_type": "markdown",
      "id": "05219e41",
      "metadata": {
        "ExecuteTime": {
          "end_time": "2022-12-10T14:52:46.140204Z",
          "start_time": "2022-12-10T14:52:46.112068Z"
        },
        "id": "05219e41"
      },
      "source": [
        "2. Пройшов час, і ми зібрали дані про продажі за серпень 2022 року, які зберігли у файл `data_2.csv`. Продажів було дещо більше, але чи змінився стат. значущо середній чек порівняно з липнем 2022? Перевірте це використовуючи ztest.\n",
        "\n",
        "  Виведіть p-значення статистичного тесту та зробіть висновок, чи ми маємо зараз статистично значущу різницю у розмірі середнього чека між двома місяцями.\n",
        "\n",
        "  **Підказка**: треба провести двовибірковий ztest з Н0 - що середні значення в липні та серпні 2022 року - однакові. Для кращого розуміння ситуації, можливо вам буде цікаво переглянути, які середні показники чеку були в кожен з місяців. Порівняйте свій висновок з простого спостереження середніх значень і висновок статистичного тесту. Чи вони збігаються?"
      ]
    },
    {
      "cell_type": "code",
      "source": [
        "from statsmodels.stats.weightstats import ztest  # Імпорт для z-тесту"
      ],
      "metadata": {
        "id": "hbs7LPI4hP-6"
      },
      "id": "hbs7LPI4hP-6",
      "execution_count": 26,
      "outputs": []
    },
    {
      "cell_type": "code",
      "source": [
        "# Зчитуємо дані з CSV\n",
        "data_july = pd.read_csv('data.csv')      # Липень\n",
        "data_august = pd.read_csv('data_2.csv')  # Серпень"
      ],
      "metadata": {
        "id": "eukZ-H-rP2cC"
      },
      "id": "eukZ-H-rP2cC",
      "execution_count": 27,
      "outputs": []
    },
    {
      "cell_type": "code",
      "source": [
        "# Отримуємо колонки з даними про чеки\n",
        "july_data = data_july['data'].values\n",
        "august_data = data_august['data'].values #.values-конвертує дані у формат NumPy масиву (np.ndarray), що дозволяє виконувати математичні операції."
      ],
      "metadata": {
        "id": "nF18dIBwP6RM"
      },
      "id": "nF18dIBwP6RM",
      "execution_count": 28,
      "outputs": []
    },
    {
      "cell_type": "code",
      "source": [
        "# Обчислюємо середні значення та стандартні відхилення\n",
        "mean_july = np.mean(july_data)\n",
        "mean_august = np.mean(august_data)"
      ],
      "metadata": {
        "id": "5A1vKbOFQrTZ"
      },
      "id": "5A1vKbOFQrTZ",
      "execution_count": 29,
      "outputs": []
    },
    {
      "cell_type": "code",
      "source": [
        "# Вибіркове стандартне відхилення\n",
        "std_july = np.std(july_data, ddof=1)  #обчислює вибіркове стандартне відхилення для липневих даних. Параметр ddof=1 означає, що ми використовуємо корекцію на кількість ступенів свободи (n-1).\n",
        "std_august = np.std(august_data, ddof=1)"
      ],
      "metadata": {
        "id": "N46oEN3tQ4G9"
      },
      "id": "N46oEN3tQ4G9",
      "execution_count": 30,
      "outputs": []
    },
    {
      "cell_type": "code",
      "source": [
        "# Виводимо середні значення для порівняння\n",
        "print(mean_july)\n",
        "print(mean_august)"
      ],
      "metadata": {
        "colab": {
          "base_uri": "https://localhost:8080/"
        },
        "id": "dbOqJ3-PRh-r",
        "outputId": "675d3c52-ab9a-4460-c436-c19b19b54edd"
      },
      "id": "dbOqJ3-PRh-r",
      "execution_count": 31,
      "outputs": [
        {
          "output_type": "stream",
          "name": "stdout",
          "text": [
            "19.37755319670441\n",
            "19.37322276512519\n"
          ]
        }
      ]
    },
    {
      "cell_type": "code",
      "source": [
        "# Проведення двовибіркового z-тесту\n",
        "z_stat, p_value = ztest(july_data, august_data)  # виконує двовибірковий z-тест, порівнюючи два набори даних (липень та серпень) і повертає z-статистику (z_stat) і p-значення (p_value)."
      ],
      "metadata": {
        "id": "IQu2dQycRu1e"
      },
      "id": "IQu2dQycRu1e",
      "execution_count": 35,
      "outputs": []
    },
    {
      "cell_type": "code",
      "source": [
        "print(z_stat)\n",
        "print(p_value)"
      ],
      "metadata": {
        "colab": {
          "base_uri": "https://localhost:8080/"
        },
        "id": "LSQiHxUpR99V",
        "outputId": "0021096f-4d5a-4705-eeec-46614cc74d03"
      },
      "id": "LSQiHxUpR99V",
      "execution_count": 36,
      "outputs": [
        {
          "output_type": "stream",
          "name": "stdout",
          "text": [
            "0.005246673456808504\n",
            "0.9958137794593356\n"
          ]
        }
      ]
    },
    {
      "cell_type": "code",
      "source": [
        "# Висновок\n",
        "if p_value < 0.05:  #перевіряє, чи p-значення менше 0.05 (зазначений рівень значущості)\n",
        "    print(\"Середній чек статистично значущо змінився між липнем та серпнем.\")\n",
        "else:\n",
        "    print(\"Середній чек не змінився статистично значущо між липнем та серпнем.\")"
      ],
      "metadata": {
        "colab": {
          "base_uri": "https://localhost:8080/"
        },
        "id": "eyKcYiumSQfA",
        "outputId": "6fa31d64-c4e3-41e3-b247-075bedd12cf2"
      },
      "id": "eyKcYiumSQfA",
      "execution_count": 37,
      "outputs": [
        {
          "output_type": "stream",
          "name": "stdout",
          "text": [
            "Середній чек не змінився статистично значущо між липнем та серпнем.\n"
          ]
        }
      ]
    },
    {
      "cell_type": "markdown",
      "source": [
        "При порівнянні середніх значень ми бачимо, що середній чек у липні (19.38) дещо перевищує середній чек у серпні (19.37). Різниця між цими значеннями є дуже незначною, і на перший погляд може здатися, що середній чек у липні вищий за серпневий.\n",
        "\n",
        "P-значення(p_value): Значення 0.9958 вказує на те, що ймовірність отримати такі або більш екстремальні результати, якщо нульова гіпотеза (H0: середні значення в липні та серпні однакові) вірна, є дуже високою. Зазвичай, якщо p-значення менше 0.05, ми відкидаємо нульову гіпотезу, однак в даному випадку p-значення значно більше 0.05.\n",
        "\n",
        "На основі простого спостереження середніх значень можна стверджувати, що середній чек у липні трохи вищий, ніж у серпні. Однак, результати статистичного тесту (z-test) свідчать про те, що ця різниця не є статистично значущою.\n",
        "\n",
        "Отже, нульова гіпотеза не відхиляється, і ми можемо зробити висновок, що немає достатніх підстав стверджувати, що середній чек у серпні відрізняється від середнього чеку у липні."
      ],
      "metadata": {
        "id": "dY9ET8vSTaZa"
      },
      "id": "dY9ET8vSTaZa"
    }
  ],
  "metadata": {
    "hide_input": false,
    "kernelspec": {
      "display_name": "Python 3 (ipykernel)",
      "language": "python",
      "name": "python3"
    },
    "language_info": {
      "codemirror_mode": {
        "name": "ipython",
        "version": 3
      },
      "file_extension": ".py",
      "mimetype": "text/x-python",
      "name": "python",
      "nbconvert_exporter": "python",
      "pygments_lexer": "ipython3",
      "version": "3.11.3"
    },
    "toc": {
      "base_numbering": 1,
      "nav_menu": {},
      "number_sections": true,
      "sideBar": true,
      "skip_h1_title": false,
      "title_cell": "Table of Contents",
      "title_sidebar": "Contents",
      "toc_cell": false,
      "toc_position": {},
      "toc_section_display": true,
      "toc_window_display": false
    },
    "varInspector": {
      "cols": {
        "lenName": 16,
        "lenType": 16,
        "lenVar": 40
      },
      "kernels_config": {
        "python": {
          "delete_cmd_postfix": "",
          "delete_cmd_prefix": "del ",
          "library": "var_list.py",
          "varRefreshCmd": "print(var_dic_list())"
        },
        "r": {
          "delete_cmd_postfix": ") ",
          "delete_cmd_prefix": "rm(",
          "library": "var_list.r",
          "varRefreshCmd": "cat(var_dic_list()) "
        }
      },
      "types_to_exclude": [
        "module",
        "function",
        "builtin_function_or_method",
        "instance",
        "_Feature"
      ],
      "window_display": false
    },
    "colab": {
      "provenance": [],
      "include_colab_link": true
    }
  },
  "nbformat": 4,
  "nbformat_minor": 5
}